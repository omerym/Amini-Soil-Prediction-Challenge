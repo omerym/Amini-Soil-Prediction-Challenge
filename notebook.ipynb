{
 "cells": [
  {
   "cell_type": "code",
   "execution_count": 1,
   "id": "5db96cbb",
   "metadata": {},
   "outputs": [],
   "source": [
    "import numpy as np\n",
    "import pandas as pd\n",
    "import matplotlib.pyplot as plt\n",
    "import seaborn as sns\n",
    "from sklearn.pipeline import Pipeline\n",
    "from sklearn.preprocessing import FunctionTransformer\n",
    "from sklearn.cluster import KMeans\n",
    "from sklearn.preprocessing import StandardScaler\n",
    "from sklearn.compose import ColumnTransformer, make_column_selector\n",
    "from sklearn.base import BaseEstimator, TransformerMixin\n",
    "from sklearn.metrics import silhouette_score\n",
    "from tqdm import tqdm\n",
    "pd.set_option('display.max_columns', None)"
   ]
  },
  {
   "cell_type": "code",
   "execution_count": 2,
   "id": "d2643153",
   "metadata": {},
   "outputs": [],
   "source": [
    "train = pd.read_csv(\"train_earth.csv\")\n",
    "test = pd.read_csv(\"test_earth.csv\")\n",
    "test_gap = pd.read_csv(\"Gap_Test.csv\")\n",
    "variables = pd.read_csv(\"VariableDefinitions.csv\")"
   ]
  },
  {
   "cell_type": "code",
   "execution_count": 3,
   "id": "e8374487",
   "metadata": {},
   "outputs": [],
   "source": [
    "soil_depth = 20\n",
    "target_columns = ['N', 'P', 'K', 'Ca', 'Mg', 'S', 'Fe', 'Mn', 'Zn', 'Cu', 'B']"
   ]
  },
  {
   "cell_type": "code",
   "execution_count": 4,
   "id": "c882114e",
   "metadata": {},
   "outputs": [],
   "source": [
    "train_dropna = train.dropna().sort_values(by=\"PID\")\n",
    "X = train_dropna.drop(columns=target_columns)\n",
    "Y = train_dropna[target_columns]"
   ]
  },
  {
   "cell_type": "code",
   "execution_count": 5,
   "id": "819dbf38",
   "metadata": {},
   "outputs": [],
   "source": [
    "def scale_predictions(X, Y_pred):\n",
    "    scale = X['BulkDensity'].values.reshape(-1, 1) * soil_depth * 0.1\n",
    "    Y_scaled = Y_pred * scale\n",
    "    return Y_scaled"
   ]
  },
  {
   "cell_type": "code",
   "execution_count": 6,
   "id": "791cfed4",
   "metadata": {},
   "outputs": [],
   "source": [
    "from sklearn.model_selection import cross_validate\n",
    "from sklearn.metrics import root_mean_squared_error\n",
    "\n",
    "\n",
    "def score_predictions(estimator, X, Y_true):\n",
    "    Y_pred = estimator.predict(X)\n",
    "    Y_true_final = scale_predictions(X, Y_true)\n",
    "    Y_pred_final = scale_predictions(X, Y_pred)\n",
    "    return -root_mean_squared_error(Y_true_final, Y_pred_final)\n",
    "\n",
    "\n",
    "estimator_last_score = {}\n",
    "\n",
    "\n",
    "def eval_model(estimator, X, Y, n_splits=5, estimator_key=None, n_jobs=1, print_result=True):\n",
    "    result = cross_validate(estimator, X, Y, cv=n_splits,\n",
    "                            scoring=score_predictions, n_jobs=n_jobs)\n",
    "    scores = -result['test_score']\n",
    "    mean = np.mean(scores)\n",
    "    median = np.median(scores)\n",
    "    if print_result:\n",
    "        print(\"mean score:\", mean)\n",
    "        print(\"median score:\", np.median(scores))\n",
    "        print(\"std:\", np.std(scores))\n",
    "        print(\"scores:  \", scores)\n",
    "    estimator_key = estimator_key or id(estimator)\n",
    "    if print_result:\n",
    "        if not estimator_key in estimator_last_score:\n",
    "            print(\"first evaluation\")\n",
    "        else:\n",
    "            last_mean, last_median = estimator_last_score[estimator_key]\n",
    "            if mean < last_mean:\n",
    "                print(\"mean improved\")\n",
    "            elif mean > last_mean:\n",
    "                print(\"mean degraded\")\n",
    "            else:\n",
    "                print(\"same mean\")\n",
    "\n",
    "            if median < last_median:\n",
    "                print(\"median improved\")\n",
    "            elif median > last_median:\n",
    "                print(\"median degraded\")\n",
    "            else:\n",
    "                print(\"same median\")\n",
    "\n",
    "    estimator_last_score[estimator_key] = (mean, median)\n",
    "    return result"
   ]
  },
  {
   "cell_type": "code",
   "execution_count": 171,
   "id": "5e6c519b",
   "metadata": {},
   "outputs": [],
   "source": [
    "def eval_classifier(classifier, X, y, n_splits=5, n_jobs=1, print_result=True):\n",
    "    result = cross_validate(classifier, X, y, cv=n_splits,\n",
    "                            scoring='roc_auc_ovr', n_jobs=n_jobs)\n",
    "    scores = result['test_score']\n",
    "    if print_result:\n",
    "        print(\"mean score:\", np.mean(scores))\n",
    "        print(\"median score:\", np.median(scores))\n",
    "        print(\"std:\", np.std(scores))\n",
    "        print(\"scores:  \", scores)\n",
    "    return result"
   ]
  },
  {
   "cell_type": "code",
   "execution_count": 8,
   "id": "0e7d8c04",
   "metadata": {},
   "outputs": [],
   "source": [
    "def predict(model, test):\n",
    "    predictions = model.predict(test)\n",
    "    predictions = scale_predictions(test, predictions)\n",
    "    predictions = pd.DataFrame(\n",
    "        predictions, columns=target_columns, index=test.index)\n",
    "    predictions[\"PID\"] = test[\"PID\"]\n",
    "    predictions = predictions.melt(\n",
    "        id_vars=['PID'], var_name='Nutrient', value_name='Available')\n",
    "    predictions = predictions.merge(right=test_gap, on=[\"PID\", \"Nutrient\"])\n",
    "    predictions[\"Gap\"] = predictions[\"Required\"] - predictions[\"Available\"]\n",
    "    predictions['ID'] = predictions['PID'] + \"_\" + predictions['Nutrient']\n",
    "    predictions = predictions[[\"ID\", \"Gap\"]]\n",
    "    return predictions"
   ]
  },
  {
   "cell_type": "code",
   "execution_count": 9,
   "id": "f53e9547",
   "metadata": {},
   "outputs": [],
   "source": [
    "def add_cluster(X: pd.DataFrame, n_clusters=2) -> pd.DataFrame:\n",
    "    kmeans = KMeans(n_clusters=n_clusters, random_state=42)\n",
    "    X = X.copy()\n",
    "    cluster_labels = kmeans.fit_predict(X)\n",
    "    X[\"cluster\"] = cluster_labels\n",
    "    return X"
   ]
  },
  {
   "cell_type": "code",
   "execution_count": 11,
   "id": "3132a658",
   "metadata": {},
   "outputs": [],
   "source": [
    "drop_step = (\"drop\", FunctionTransformer(\n",
    "    lambda x: x.drop(columns=[\"PID\", \"site\", 'Nadir_Reflectance_Band2', 'Nadir_Reflectance_Band4', 'QA_RADSAT',\n",
    "                              'SENSING_ORBIT_NUMBER', 'SR_B1', 'SR_B2', 'SR_B4', 'SR_B6', 'SolarZenith', 'ecec20',\n",
    "                              'lstn', 'para', 'relativeOrbitNumber_start', 'sur_refl_b07', 'tim'])))\n",
    "cluster_step = (\"cluster\", FunctionTransformer(lambda x: add_cluster(x, 3)))"
   ]
  },
  {
   "cell_type": "code",
   "execution_count": 175,
   "id": "9ea030d8",
   "metadata": {},
   "outputs": [],
   "source": [
    "max_nutrient = train_dropna[target_columns].apply(\n",
    "    lambda x: np.argmax(x), axis=1).map(lambda x: target_columns[x])\n",
    "max_nutrient\n",
    "max_nutrient_encoded = max_nutrient == 'Ca'"
   ]
  },
  {
   "cell_type": "code",
   "execution_count": 199,
   "id": "7a3c197e",
   "metadata": {},
   "outputs": [
    {
     "name": "stdout",
     "output_type": "stream",
     "text": [
      "mean score: 0.9538454235940519\n",
      "median score: 0.9551482732890093\n",
      "std: 0.00613434740133717\n",
      "scores:   [0.95232953 0.96053759 0.95796702 0.94454756]\n"
     ]
    },
    {
     "data": {
      "text/plain": [
       "{'fit_time': array([38.57298136, 40.17487478, 39.69581985, 41.03691292]),\n",
       " 'score_time': array([0.01088572, 0.01229644, 0.00931025, 0.00750637]),\n",
       " 'test_score': array([0.95232953, 0.96053759, 0.95796702, 0.94454756])}"
      ]
     },
     "execution_count": 199,
     "metadata": {},
     "output_type": "execute_result"
    }
   ],
   "source": [
    "from sklearn.linear_model import LogisticRegressionCV\n",
    "from sklearn.decomposition import PCA\n",
    "clf_log = Pipeline(\n",
    "    [(\"drop\", FunctionTransformer(lambda x: x.drop(columns=[\"PID\", \"site\"]))),\n",
    "     (\"scale\", StandardScaler()),\n",
    "     ('pca', PCA(74)),\n",
    "     (\"log\", LogisticRegressionCV(\n",
    "         random_state=0,\n",
    "         solver='sag',\n",
    "         max_iter=500,\n",
    "         n_jobs=-1\n",
    "     ))])\n",
    "eval_classifier(clf_log, X, max_nutrient_encoded, n_jobs=-1, n_splits=4)"
   ]
  },
  {
   "cell_type": "code",
   "execution_count": 240,
   "id": "0ba1525d",
   "metadata": {},
   "outputs": [
    {
     "name": "stdout",
     "output_type": "stream",
     "text": [
      "mean score: 0.9634737399530209\n",
      "median score: 0.9623461032323606\n",
      "std: 0.004300078399487243\n",
      "scores:   [0.95921457 0.96998818 0.96467432 0.96001789]\n"
     ]
    },
    {
     "data": {
      "text/plain": [
       "{'fit_time': array([3.64084482, 3.63152909, 3.60335231, 3.54732394]),\n",
       " 'score_time': array([0.03798199, 0.03472376, 0.03715444, 0.04583144]),\n",
       " 'test_score': array([0.95921457, 0.96998818, 0.96467432, 0.96001789])}"
      ]
     },
     "execution_count": 240,
     "metadata": {},
     "output_type": "execute_result"
    }
   ],
   "source": [
    "from sklearn.ensemble import HistGradientBoostingClassifier\n",
    "clf_hist = Pipeline(\n",
    "    [(\"drop\", FunctionTransformer(lambda x: x.drop(columns=[\"PID\", \"site\"]))),\n",
    "     (\"c\", ColumnTransformer(\n",
    "         [('log',  FunctionTransformer(np.log1p),\n",
    "           ['VH', 'B11', 'B4', 'B5', 'B7', 'B8', 'B8A', 'B9', 'CLOUDY_PIXEL_PERCENTAGE',\n",
    "            'MEAN_SOLAR_ZENITH_ANGLE', 'NODATA_PIXEL_PERCENTAGE']),\n",
    "          ('exp',  FunctionTransformer(np.expm1),\n",
    "           ['mb1', 'mdem', 'QA_PIXEL']),],\n",
    "         remainder='passthrough')),\n",
    "     (\"hist\", HistGradientBoostingClassifier(random_state=0\n",
    "                                             ))])\n",
    "eval_classifier(clf_hist, X, max_nutrient_encoded, n_jobs=-1, n_splits=4)"
   ]
  },
  {
   "cell_type": "code",
   "execution_count": 241,
   "id": "7ea85c95",
   "metadata": {},
   "outputs": [
    {
     "name": "stderr",
     "output_type": "stream",
     "text": [
      "c:\\Users\\Omer\\AppData\\Local\\Programs\\Python\\Python313\\Lib\\site-packages\\pandas\\core\\internals\\blocks.py:393: RuntimeWarning: invalid value encountered in log1p\n",
      "  result = func(self.values, **kwargs)\n",
      "c:\\Users\\Omer\\AppData\\Local\\Programs\\Python\\Python313\\Lib\\site-packages\\pandas\\core\\internals\\blocks.py:393: RuntimeWarning: overflow encountered in expm1\n",
      "  result = func(self.values, **kwargs)\n",
      "c:\\Users\\Omer\\AppData\\Local\\Programs\\Python\\Python313\\Lib\\site-packages\\sklearn\\compose\\_column_transformer.py:1667: FutureWarning: \n",
      "The format of the columns of the 'remainder' transformer in ColumnTransformer.transformers_ will change in version 1.7 to match the format of the other transformers.\n",
      "At the moment the remainder columns are stored as indices (of type int). With the same ColumnTransformer configuration, in the future they will be stored as column names (of type str).\n",
      "To use the new behavior now and suppress this warning, use ColumnTransformer(force_int_remainder_cols=False).\n",
      "\n",
      "  warnings.warn(\n"
     ]
    },
    {
     "data": {
      "text/html": [
       "<style>#sk-container-id-10 {\n",
       "  /* Definition of color scheme common for light and dark mode */\n",
       "  --sklearn-color-text: #000;\n",
       "  --sklearn-color-text-muted: #666;\n",
       "  --sklearn-color-line: gray;\n",
       "  /* Definition of color scheme for unfitted estimators */\n",
       "  --sklearn-color-unfitted-level-0: #fff5e6;\n",
       "  --sklearn-color-unfitted-level-1: #f6e4d2;\n",
       "  --sklearn-color-unfitted-level-2: #ffe0b3;\n",
       "  --sklearn-color-unfitted-level-3: chocolate;\n",
       "  /* Definition of color scheme for fitted estimators */\n",
       "  --sklearn-color-fitted-level-0: #f0f8ff;\n",
       "  --sklearn-color-fitted-level-1: #d4ebff;\n",
       "  --sklearn-color-fitted-level-2: #b3dbfd;\n",
       "  --sklearn-color-fitted-level-3: cornflowerblue;\n",
       "\n",
       "  /* Specific color for light theme */\n",
       "  --sklearn-color-text-on-default-background: var(--sg-text-color, var(--theme-code-foreground, var(--jp-content-font-color1, black)));\n",
       "  --sklearn-color-background: var(--sg-background-color, var(--theme-background, var(--jp-layout-color0, white)));\n",
       "  --sklearn-color-border-box: var(--sg-text-color, var(--theme-code-foreground, var(--jp-content-font-color1, black)));\n",
       "  --sklearn-color-icon: #696969;\n",
       "\n",
       "  @media (prefers-color-scheme: dark) {\n",
       "    /* Redefinition of color scheme for dark theme */\n",
       "    --sklearn-color-text-on-default-background: var(--sg-text-color, var(--theme-code-foreground, var(--jp-content-font-color1, white)));\n",
       "    --sklearn-color-background: var(--sg-background-color, var(--theme-background, var(--jp-layout-color0, #111)));\n",
       "    --sklearn-color-border-box: var(--sg-text-color, var(--theme-code-foreground, var(--jp-content-font-color1, white)));\n",
       "    --sklearn-color-icon: #878787;\n",
       "  }\n",
       "}\n",
       "\n",
       "#sk-container-id-10 {\n",
       "  color: var(--sklearn-color-text);\n",
       "}\n",
       "\n",
       "#sk-container-id-10 pre {\n",
       "  padding: 0;\n",
       "}\n",
       "\n",
       "#sk-container-id-10 input.sk-hidden--visually {\n",
       "  border: 0;\n",
       "  clip: rect(1px 1px 1px 1px);\n",
       "  clip: rect(1px, 1px, 1px, 1px);\n",
       "  height: 1px;\n",
       "  margin: -1px;\n",
       "  overflow: hidden;\n",
       "  padding: 0;\n",
       "  position: absolute;\n",
       "  width: 1px;\n",
       "}\n",
       "\n",
       "#sk-container-id-10 div.sk-dashed-wrapped {\n",
       "  border: 1px dashed var(--sklearn-color-line);\n",
       "  margin: 0 0.4em 0.5em 0.4em;\n",
       "  box-sizing: border-box;\n",
       "  padding-bottom: 0.4em;\n",
       "  background-color: var(--sklearn-color-background);\n",
       "}\n",
       "\n",
       "#sk-container-id-10 div.sk-container {\n",
       "  /* jupyter's `normalize.less` sets `[hidden] { display: none; }`\n",
       "     but bootstrap.min.css set `[hidden] { display: none !important; }`\n",
       "     so we also need the `!important` here to be able to override the\n",
       "     default hidden behavior on the sphinx rendered scikit-learn.org.\n",
       "     See: https://github.com/scikit-learn/scikit-learn/issues/21755 */\n",
       "  display: inline-block !important;\n",
       "  position: relative;\n",
       "}\n",
       "\n",
       "#sk-container-id-10 div.sk-text-repr-fallback {\n",
       "  display: none;\n",
       "}\n",
       "\n",
       "div.sk-parallel-item,\n",
       "div.sk-serial,\n",
       "div.sk-item {\n",
       "  /* draw centered vertical line to link estimators */\n",
       "  background-image: linear-gradient(var(--sklearn-color-text-on-default-background), var(--sklearn-color-text-on-default-background));\n",
       "  background-size: 2px 100%;\n",
       "  background-repeat: no-repeat;\n",
       "  background-position: center center;\n",
       "}\n",
       "\n",
       "/* Parallel-specific style estimator block */\n",
       "\n",
       "#sk-container-id-10 div.sk-parallel-item::after {\n",
       "  content: \"\";\n",
       "  width: 100%;\n",
       "  border-bottom: 2px solid var(--sklearn-color-text-on-default-background);\n",
       "  flex-grow: 1;\n",
       "}\n",
       "\n",
       "#sk-container-id-10 div.sk-parallel {\n",
       "  display: flex;\n",
       "  align-items: stretch;\n",
       "  justify-content: center;\n",
       "  background-color: var(--sklearn-color-background);\n",
       "  position: relative;\n",
       "}\n",
       "\n",
       "#sk-container-id-10 div.sk-parallel-item {\n",
       "  display: flex;\n",
       "  flex-direction: column;\n",
       "}\n",
       "\n",
       "#sk-container-id-10 div.sk-parallel-item:first-child::after {\n",
       "  align-self: flex-end;\n",
       "  width: 50%;\n",
       "}\n",
       "\n",
       "#sk-container-id-10 div.sk-parallel-item:last-child::after {\n",
       "  align-self: flex-start;\n",
       "  width: 50%;\n",
       "}\n",
       "\n",
       "#sk-container-id-10 div.sk-parallel-item:only-child::after {\n",
       "  width: 0;\n",
       "}\n",
       "\n",
       "/* Serial-specific style estimator block */\n",
       "\n",
       "#sk-container-id-10 div.sk-serial {\n",
       "  display: flex;\n",
       "  flex-direction: column;\n",
       "  align-items: center;\n",
       "  background-color: var(--sklearn-color-background);\n",
       "  padding-right: 1em;\n",
       "  padding-left: 1em;\n",
       "}\n",
       "\n",
       "\n",
       "/* Toggleable style: style used for estimator/Pipeline/ColumnTransformer box that is\n",
       "clickable and can be expanded/collapsed.\n",
       "- Pipeline and ColumnTransformer use this feature and define the default style\n",
       "- Estimators will overwrite some part of the style using the `sk-estimator` class\n",
       "*/\n",
       "\n",
       "/* Pipeline and ColumnTransformer style (default) */\n",
       "\n",
       "#sk-container-id-10 div.sk-toggleable {\n",
       "  /* Default theme specific background. It is overwritten whether we have a\n",
       "  specific estimator or a Pipeline/ColumnTransformer */\n",
       "  background-color: var(--sklearn-color-background);\n",
       "}\n",
       "\n",
       "/* Toggleable label */\n",
       "#sk-container-id-10 label.sk-toggleable__label {\n",
       "  cursor: pointer;\n",
       "  display: flex;\n",
       "  width: 100%;\n",
       "  margin-bottom: 0;\n",
       "  padding: 0.5em;\n",
       "  box-sizing: border-box;\n",
       "  text-align: center;\n",
       "  align-items: start;\n",
       "  justify-content: space-between;\n",
       "  gap: 0.5em;\n",
       "}\n",
       "\n",
       "#sk-container-id-10 label.sk-toggleable__label .caption {\n",
       "  font-size: 0.6rem;\n",
       "  font-weight: lighter;\n",
       "  color: var(--sklearn-color-text-muted);\n",
       "}\n",
       "\n",
       "#sk-container-id-10 label.sk-toggleable__label-arrow:before {\n",
       "  /* Arrow on the left of the label */\n",
       "  content: \"▸\";\n",
       "  float: left;\n",
       "  margin-right: 0.25em;\n",
       "  color: var(--sklearn-color-icon);\n",
       "}\n",
       "\n",
       "#sk-container-id-10 label.sk-toggleable__label-arrow:hover:before {\n",
       "  color: var(--sklearn-color-text);\n",
       "}\n",
       "\n",
       "/* Toggleable content - dropdown */\n",
       "\n",
       "#sk-container-id-10 div.sk-toggleable__content {\n",
       "  max-height: 0;\n",
       "  max-width: 0;\n",
       "  overflow: hidden;\n",
       "  text-align: left;\n",
       "  /* unfitted */\n",
       "  background-color: var(--sklearn-color-unfitted-level-0);\n",
       "}\n",
       "\n",
       "#sk-container-id-10 div.sk-toggleable__content.fitted {\n",
       "  /* fitted */\n",
       "  background-color: var(--sklearn-color-fitted-level-0);\n",
       "}\n",
       "\n",
       "#sk-container-id-10 div.sk-toggleable__content pre {\n",
       "  margin: 0.2em;\n",
       "  border-radius: 0.25em;\n",
       "  color: var(--sklearn-color-text);\n",
       "  /* unfitted */\n",
       "  background-color: var(--sklearn-color-unfitted-level-0);\n",
       "}\n",
       "\n",
       "#sk-container-id-10 div.sk-toggleable__content.fitted pre {\n",
       "  /* unfitted */\n",
       "  background-color: var(--sklearn-color-fitted-level-0);\n",
       "}\n",
       "\n",
       "#sk-container-id-10 input.sk-toggleable__control:checked~div.sk-toggleable__content {\n",
       "  /* Expand drop-down */\n",
       "  max-height: 200px;\n",
       "  max-width: 100%;\n",
       "  overflow: auto;\n",
       "}\n",
       "\n",
       "#sk-container-id-10 input.sk-toggleable__control:checked~label.sk-toggleable__label-arrow:before {\n",
       "  content: \"▾\";\n",
       "}\n",
       "\n",
       "/* Pipeline/ColumnTransformer-specific style */\n",
       "\n",
       "#sk-container-id-10 div.sk-label input.sk-toggleable__control:checked~label.sk-toggleable__label {\n",
       "  color: var(--sklearn-color-text);\n",
       "  background-color: var(--sklearn-color-unfitted-level-2);\n",
       "}\n",
       "\n",
       "#sk-container-id-10 div.sk-label.fitted input.sk-toggleable__control:checked~label.sk-toggleable__label {\n",
       "  background-color: var(--sklearn-color-fitted-level-2);\n",
       "}\n",
       "\n",
       "/* Estimator-specific style */\n",
       "\n",
       "/* Colorize estimator box */\n",
       "#sk-container-id-10 div.sk-estimator input.sk-toggleable__control:checked~label.sk-toggleable__label {\n",
       "  /* unfitted */\n",
       "  background-color: var(--sklearn-color-unfitted-level-2);\n",
       "}\n",
       "\n",
       "#sk-container-id-10 div.sk-estimator.fitted input.sk-toggleable__control:checked~label.sk-toggleable__label {\n",
       "  /* fitted */\n",
       "  background-color: var(--sklearn-color-fitted-level-2);\n",
       "}\n",
       "\n",
       "#sk-container-id-10 div.sk-label label.sk-toggleable__label,\n",
       "#sk-container-id-10 div.sk-label label {\n",
       "  /* The background is the default theme color */\n",
       "  color: var(--sklearn-color-text-on-default-background);\n",
       "}\n",
       "\n",
       "/* On hover, darken the color of the background */\n",
       "#sk-container-id-10 div.sk-label:hover label.sk-toggleable__label {\n",
       "  color: var(--sklearn-color-text);\n",
       "  background-color: var(--sklearn-color-unfitted-level-2);\n",
       "}\n",
       "\n",
       "/* Label box, darken color on hover, fitted */\n",
       "#sk-container-id-10 div.sk-label.fitted:hover label.sk-toggleable__label.fitted {\n",
       "  color: var(--sklearn-color-text);\n",
       "  background-color: var(--sklearn-color-fitted-level-2);\n",
       "}\n",
       "\n",
       "/* Estimator label */\n",
       "\n",
       "#sk-container-id-10 div.sk-label label {\n",
       "  font-family: monospace;\n",
       "  font-weight: bold;\n",
       "  display: inline-block;\n",
       "  line-height: 1.2em;\n",
       "}\n",
       "\n",
       "#sk-container-id-10 div.sk-label-container {\n",
       "  text-align: center;\n",
       "}\n",
       "\n",
       "/* Estimator-specific */\n",
       "#sk-container-id-10 div.sk-estimator {\n",
       "  font-family: monospace;\n",
       "  border: 1px dotted var(--sklearn-color-border-box);\n",
       "  border-radius: 0.25em;\n",
       "  box-sizing: border-box;\n",
       "  margin-bottom: 0.5em;\n",
       "  /* unfitted */\n",
       "  background-color: var(--sklearn-color-unfitted-level-0);\n",
       "}\n",
       "\n",
       "#sk-container-id-10 div.sk-estimator.fitted {\n",
       "  /* fitted */\n",
       "  background-color: var(--sklearn-color-fitted-level-0);\n",
       "}\n",
       "\n",
       "/* on hover */\n",
       "#sk-container-id-10 div.sk-estimator:hover {\n",
       "  /* unfitted */\n",
       "  background-color: var(--sklearn-color-unfitted-level-2);\n",
       "}\n",
       "\n",
       "#sk-container-id-10 div.sk-estimator.fitted:hover {\n",
       "  /* fitted */\n",
       "  background-color: var(--sklearn-color-fitted-level-2);\n",
       "}\n",
       "\n",
       "/* Specification for estimator info (e.g. \"i\" and \"?\") */\n",
       "\n",
       "/* Common style for \"i\" and \"?\" */\n",
       "\n",
       ".sk-estimator-doc-link,\n",
       "a:link.sk-estimator-doc-link,\n",
       "a:visited.sk-estimator-doc-link {\n",
       "  float: right;\n",
       "  font-size: smaller;\n",
       "  line-height: 1em;\n",
       "  font-family: monospace;\n",
       "  background-color: var(--sklearn-color-background);\n",
       "  border-radius: 1em;\n",
       "  height: 1em;\n",
       "  width: 1em;\n",
       "  text-decoration: none !important;\n",
       "  margin-left: 0.5em;\n",
       "  text-align: center;\n",
       "  /* unfitted */\n",
       "  border: var(--sklearn-color-unfitted-level-1) 1pt solid;\n",
       "  color: var(--sklearn-color-unfitted-level-1);\n",
       "}\n",
       "\n",
       ".sk-estimator-doc-link.fitted,\n",
       "a:link.sk-estimator-doc-link.fitted,\n",
       "a:visited.sk-estimator-doc-link.fitted {\n",
       "  /* fitted */\n",
       "  border: var(--sklearn-color-fitted-level-1) 1pt solid;\n",
       "  color: var(--sklearn-color-fitted-level-1);\n",
       "}\n",
       "\n",
       "/* On hover */\n",
       "div.sk-estimator:hover .sk-estimator-doc-link:hover,\n",
       ".sk-estimator-doc-link:hover,\n",
       "div.sk-label-container:hover .sk-estimator-doc-link:hover,\n",
       ".sk-estimator-doc-link:hover {\n",
       "  /* unfitted */\n",
       "  background-color: var(--sklearn-color-unfitted-level-3);\n",
       "  color: var(--sklearn-color-background);\n",
       "  text-decoration: none;\n",
       "}\n",
       "\n",
       "div.sk-estimator.fitted:hover .sk-estimator-doc-link.fitted:hover,\n",
       ".sk-estimator-doc-link.fitted:hover,\n",
       "div.sk-label-container:hover .sk-estimator-doc-link.fitted:hover,\n",
       ".sk-estimator-doc-link.fitted:hover {\n",
       "  /* fitted */\n",
       "  background-color: var(--sklearn-color-fitted-level-3);\n",
       "  color: var(--sklearn-color-background);\n",
       "  text-decoration: none;\n",
       "}\n",
       "\n",
       "/* Span, style for the box shown on hovering the info icon */\n",
       ".sk-estimator-doc-link span {\n",
       "  display: none;\n",
       "  z-index: 9999;\n",
       "  position: relative;\n",
       "  font-weight: normal;\n",
       "  right: .2ex;\n",
       "  padding: .5ex;\n",
       "  margin: .5ex;\n",
       "  width: min-content;\n",
       "  min-width: 20ex;\n",
       "  max-width: 50ex;\n",
       "  color: var(--sklearn-color-text);\n",
       "  box-shadow: 2pt 2pt 4pt #999;\n",
       "  /* unfitted */\n",
       "  background: var(--sklearn-color-unfitted-level-0);\n",
       "  border: .5pt solid var(--sklearn-color-unfitted-level-3);\n",
       "}\n",
       "\n",
       ".sk-estimator-doc-link.fitted span {\n",
       "  /* fitted */\n",
       "  background: var(--sklearn-color-fitted-level-0);\n",
       "  border: var(--sklearn-color-fitted-level-3);\n",
       "}\n",
       "\n",
       ".sk-estimator-doc-link:hover span {\n",
       "  display: block;\n",
       "}\n",
       "\n",
       "/* \"?\"-specific style due to the `<a>` HTML tag */\n",
       "\n",
       "#sk-container-id-10 a.estimator_doc_link {\n",
       "  float: right;\n",
       "  font-size: 1rem;\n",
       "  line-height: 1em;\n",
       "  font-family: monospace;\n",
       "  background-color: var(--sklearn-color-background);\n",
       "  border-radius: 1rem;\n",
       "  height: 1rem;\n",
       "  width: 1rem;\n",
       "  text-decoration: none;\n",
       "  /* unfitted */\n",
       "  color: var(--sklearn-color-unfitted-level-1);\n",
       "  border: var(--sklearn-color-unfitted-level-1) 1pt solid;\n",
       "}\n",
       "\n",
       "#sk-container-id-10 a.estimator_doc_link.fitted {\n",
       "  /* fitted */\n",
       "  border: var(--sklearn-color-fitted-level-1) 1pt solid;\n",
       "  color: var(--sklearn-color-fitted-level-1);\n",
       "}\n",
       "\n",
       "/* On hover */\n",
       "#sk-container-id-10 a.estimator_doc_link:hover {\n",
       "  /* unfitted */\n",
       "  background-color: var(--sklearn-color-unfitted-level-3);\n",
       "  color: var(--sklearn-color-background);\n",
       "  text-decoration: none;\n",
       "}\n",
       "\n",
       "#sk-container-id-10 a.estimator_doc_link.fitted:hover {\n",
       "  /* fitted */\n",
       "  background-color: var(--sklearn-color-fitted-level-3);\n",
       "}\n",
       "</style><div id=\"sk-container-id-10\" class=\"sk-top-container\"><div class=\"sk-text-repr-fallback\"><pre>Pipeline(steps=[(&#x27;drop&#x27;,\n",
       "                 FunctionTransformer(func=&lt;function &lt;lambda&gt; at 0x0000020FBD3ABF60&gt;)),\n",
       "                (&#x27;c&#x27;,\n",
       "                 ColumnTransformer(remainder=&#x27;passthrough&#x27;,\n",
       "                                   transformers=[(&#x27;log&#x27;,\n",
       "                                                  FunctionTransformer(func=&lt;ufunc &#x27;log1p&#x27;&gt;),\n",
       "                                                  [&#x27;VH&#x27;, &#x27;B11&#x27;, &#x27;B4&#x27;, &#x27;B5&#x27;,\n",
       "                                                   &#x27;B7&#x27;, &#x27;B8&#x27;, &#x27;B8A&#x27;, &#x27;B9&#x27;,\n",
       "                                                   &#x27;CLOUDY_PIXEL_PERCENTAGE&#x27;,\n",
       "                                                   &#x27;MEAN_SOLAR_ZENITH_ANGLE&#x27;,\n",
       "                                                   &#x27;NODATA_PIXEL_PERCENTAGE&#x27;]),\n",
       "                                                 (&#x27;exp&#x27;,\n",
       "                                                  FunctionTransformer(func=&lt;ufunc &#x27;expm1&#x27;&gt;),\n",
       "                                                  [&#x27;mb1&#x27;, &#x27;mdem&#x27;,\n",
       "                                                   &#x27;QA_PIXEL&#x27;])])),\n",
       "                (&#x27;hist&#x27;, HistGradientBoostingClassifier(random_state=0))])</pre><b>In a Jupyter environment, please rerun this cell to show the HTML representation or trust the notebook. <br />On GitHub, the HTML representation is unable to render, please try loading this page with nbviewer.org.</b></div><div class=\"sk-container\" hidden><div class=\"sk-item sk-dashed-wrapped\"><div class=\"sk-label-container\"><div class=\"sk-label fitted sk-toggleable\"><input class=\"sk-toggleable__control sk-hidden--visually\" id=\"sk-estimator-id-62\" type=\"checkbox\" ><label for=\"sk-estimator-id-62\" class=\"sk-toggleable__label fitted sk-toggleable__label-arrow\"><div><div>Pipeline</div></div><div><a class=\"sk-estimator-doc-link fitted\" rel=\"noreferrer\" target=\"_blank\" href=\"https://scikit-learn.org/1.6/modules/generated/sklearn.pipeline.Pipeline.html\">?<span>Documentation for Pipeline</span></a><span class=\"sk-estimator-doc-link fitted\">i<span>Fitted</span></span></div></label><div class=\"sk-toggleable__content fitted\"><pre>Pipeline(steps=[(&#x27;drop&#x27;,\n",
       "                 FunctionTransformer(func=&lt;function &lt;lambda&gt; at 0x0000020FBD3ABF60&gt;)),\n",
       "                (&#x27;c&#x27;,\n",
       "                 ColumnTransformer(remainder=&#x27;passthrough&#x27;,\n",
       "                                   transformers=[(&#x27;log&#x27;,\n",
       "                                                  FunctionTransformer(func=&lt;ufunc &#x27;log1p&#x27;&gt;),\n",
       "                                                  [&#x27;VH&#x27;, &#x27;B11&#x27;, &#x27;B4&#x27;, &#x27;B5&#x27;,\n",
       "                                                   &#x27;B7&#x27;, &#x27;B8&#x27;, &#x27;B8A&#x27;, &#x27;B9&#x27;,\n",
       "                                                   &#x27;CLOUDY_PIXEL_PERCENTAGE&#x27;,\n",
       "                                                   &#x27;MEAN_SOLAR_ZENITH_ANGLE&#x27;,\n",
       "                                                   &#x27;NODATA_PIXEL_PERCENTAGE&#x27;]),\n",
       "                                                 (&#x27;exp&#x27;,\n",
       "                                                  FunctionTransformer(func=&lt;ufunc &#x27;expm1&#x27;&gt;),\n",
       "                                                  [&#x27;mb1&#x27;, &#x27;mdem&#x27;,\n",
       "                                                   &#x27;QA_PIXEL&#x27;])])),\n",
       "                (&#x27;hist&#x27;, HistGradientBoostingClassifier(random_state=0))])</pre></div> </div></div><div class=\"sk-serial\"><div class=\"sk-item\"><div class=\"sk-estimator fitted sk-toggleable\"><input class=\"sk-toggleable__control sk-hidden--visually\" id=\"sk-estimator-id-63\" type=\"checkbox\" ><label for=\"sk-estimator-id-63\" class=\"sk-toggleable__label fitted sk-toggleable__label-arrow\"><div><div>&lt;lambda&gt;</div><div class=\"caption\">FunctionTransformer</div></div><div><a class=\"sk-estimator-doc-link fitted\" rel=\"noreferrer\" target=\"_blank\" href=\"https://scikit-learn.org/1.6/modules/generated/sklearn.preprocessing.FunctionTransformer.html\">?<span>Documentation for FunctionTransformer</span></a></div></label><div class=\"sk-toggleable__content fitted\"><pre>FunctionTransformer(func=&lt;function &lt;lambda&gt; at 0x0000020FBD3ABF60&gt;)</pre></div> </div></div><div class=\"sk-item sk-dashed-wrapped\"><div class=\"sk-label-container\"><div class=\"sk-label fitted sk-toggleable\"><input class=\"sk-toggleable__control sk-hidden--visually\" id=\"sk-estimator-id-64\" type=\"checkbox\" ><label for=\"sk-estimator-id-64\" class=\"sk-toggleable__label fitted sk-toggleable__label-arrow\"><div><div>c: ColumnTransformer</div></div><div><a class=\"sk-estimator-doc-link fitted\" rel=\"noreferrer\" target=\"_blank\" href=\"https://scikit-learn.org/1.6/modules/generated/sklearn.compose.ColumnTransformer.html\">?<span>Documentation for c: ColumnTransformer</span></a></div></label><div class=\"sk-toggleable__content fitted\"><pre>ColumnTransformer(remainder=&#x27;passthrough&#x27;,\n",
       "                  transformers=[(&#x27;log&#x27;,\n",
       "                                 FunctionTransformer(func=&lt;ufunc &#x27;log1p&#x27;&gt;),\n",
       "                                 [&#x27;VH&#x27;, &#x27;B11&#x27;, &#x27;B4&#x27;, &#x27;B5&#x27;, &#x27;B7&#x27;, &#x27;B8&#x27;, &#x27;B8A&#x27;,\n",
       "                                  &#x27;B9&#x27;, &#x27;CLOUDY_PIXEL_PERCENTAGE&#x27;,\n",
       "                                  &#x27;MEAN_SOLAR_ZENITH_ANGLE&#x27;,\n",
       "                                  &#x27;NODATA_PIXEL_PERCENTAGE&#x27;]),\n",
       "                                (&#x27;exp&#x27;,\n",
       "                                 FunctionTransformer(func=&lt;ufunc &#x27;expm1&#x27;&gt;),\n",
       "                                 [&#x27;mb1&#x27;, &#x27;mdem&#x27;, &#x27;QA_PIXEL&#x27;])])</pre></div> </div></div><div class=\"sk-parallel\"><div class=\"sk-parallel-item\"><div class=\"sk-item\"><div class=\"sk-label-container\"><div class=\"sk-label fitted sk-toggleable\"><input class=\"sk-toggleable__control sk-hidden--visually\" id=\"sk-estimator-id-65\" type=\"checkbox\" ><label for=\"sk-estimator-id-65\" class=\"sk-toggleable__label fitted sk-toggleable__label-arrow\"><div><div>log</div></div></label><div class=\"sk-toggleable__content fitted\"><pre>[&#x27;VH&#x27;, &#x27;B11&#x27;, &#x27;B4&#x27;, &#x27;B5&#x27;, &#x27;B7&#x27;, &#x27;B8&#x27;, &#x27;B8A&#x27;, &#x27;B9&#x27;, &#x27;CLOUDY_PIXEL_PERCENTAGE&#x27;, &#x27;MEAN_SOLAR_ZENITH_ANGLE&#x27;, &#x27;NODATA_PIXEL_PERCENTAGE&#x27;]</pre></div> </div></div><div class=\"sk-serial\"><div class=\"sk-item\"><div class=\"sk-estimator fitted sk-toggleable\"><input class=\"sk-toggleable__control sk-hidden--visually\" id=\"sk-estimator-id-66\" type=\"checkbox\" ><label for=\"sk-estimator-id-66\" class=\"sk-toggleable__label fitted sk-toggleable__label-arrow\"><div><div>log1p</div><div class=\"caption\">FunctionTransformer</div></div><div><a class=\"sk-estimator-doc-link fitted\" rel=\"noreferrer\" target=\"_blank\" href=\"https://scikit-learn.org/1.6/modules/generated/sklearn.preprocessing.FunctionTransformer.html\">?<span>Documentation for FunctionTransformer</span></a></div></label><div class=\"sk-toggleable__content fitted\"><pre>FunctionTransformer(func=&lt;ufunc &#x27;log1p&#x27;&gt;)</pre></div> </div></div></div></div></div><div class=\"sk-parallel-item\"><div class=\"sk-item\"><div class=\"sk-label-container\"><div class=\"sk-label fitted sk-toggleable\"><input class=\"sk-toggleable__control sk-hidden--visually\" id=\"sk-estimator-id-67\" type=\"checkbox\" ><label for=\"sk-estimator-id-67\" class=\"sk-toggleable__label fitted sk-toggleable__label-arrow\"><div><div>exp</div></div></label><div class=\"sk-toggleable__content fitted\"><pre>[&#x27;mb1&#x27;, &#x27;mdem&#x27;, &#x27;QA_PIXEL&#x27;]</pre></div> </div></div><div class=\"sk-serial\"><div class=\"sk-item\"><div class=\"sk-estimator fitted sk-toggleable\"><input class=\"sk-toggleable__control sk-hidden--visually\" id=\"sk-estimator-id-68\" type=\"checkbox\" ><label for=\"sk-estimator-id-68\" class=\"sk-toggleable__label fitted sk-toggleable__label-arrow\"><div><div>expm1</div><div class=\"caption\">FunctionTransformer</div></div><div><a class=\"sk-estimator-doc-link fitted\" rel=\"noreferrer\" target=\"_blank\" href=\"https://scikit-learn.org/1.6/modules/generated/sklearn.preprocessing.FunctionTransformer.html\">?<span>Documentation for FunctionTransformer</span></a></div></label><div class=\"sk-toggleable__content fitted\"><pre>FunctionTransformer(func=&lt;ufunc &#x27;expm1&#x27;&gt;)</pre></div> </div></div></div></div></div><div class=\"sk-parallel-item\"><div class=\"sk-item\"><div class=\"sk-label-container\"><div class=\"sk-label fitted sk-toggleable\"><input class=\"sk-toggleable__control sk-hidden--visually\" id=\"sk-estimator-id-69\" type=\"checkbox\" ><label for=\"sk-estimator-id-69\" class=\"sk-toggleable__label fitted sk-toggleable__label-arrow\"><div><div>remainder</div></div></label><div class=\"sk-toggleable__content fitted\"><pre>[&#x27;lon&#x27;, &#x27;lat&#x27;, &#x27;pH&#x27;, &#x27;alb&#x27;, &#x27;bio1&#x27;, &#x27;bio12&#x27;, &#x27;bio15&#x27;, &#x27;bio7&#x27;, &#x27;bp&#x27;, &#x27;cec20&#x27;, &#x27;dows&#x27;, &#x27;ecec20&#x27;, &#x27;hp20&#x27;, &#x27;ls&#x27;, &#x27;lstd&#x27;, &#x27;lstn&#x27;, &#x27;mb2&#x27;, &#x27;mb3&#x27;, &#x27;mb7&#x27;, &#x27;para&#x27;, &#x27;parv&#x27;, &#x27;ph20&#x27;, &#x27;slope&#x27;, &#x27;snd20&#x27;, &#x27;soc20&#x27;, &#x27;tim&#x27;, &#x27;wp&#x27;, &#x27;xhp20&#x27;, &#x27;BulkDensity&#x27;, &#x27;QA_RADSAT&#x27;, &#x27;SR_B1&#x27;, &#x27;SR_B2&#x27;, &#x27;SR_B3&#x27;, &#x27;SR_B4&#x27;, &#x27;SR_B5&#x27;, &#x27;SR_B6&#x27;, &#x27;SR_B7&#x27;, &#x27;ST_B10&#x27;, &#x27;Nadir_Reflectance_Band1&#x27;, &#x27;Nadir_Reflectance_Band2&#x27;, &#x27;Nadir_Reflectance_Band3&#x27;, &#x27;Nadir_Reflectance_Band4&#x27;, &#x27;sur_refl_b01&#x27;, &#x27;sur_refl_b02&#x27;, &#x27;sur_refl_b03&#x27;, &#x27;sur_refl_b04&#x27;, &#x27;sur_refl_b05&#x27;, &#x27;sur_refl_b06&#x27;, &#x27;sur_refl_b07&#x27;, &#x27;LST_Day_1km&#x27;, &#x27;LST_Night_1km&#x27;, &#x27;EVI&#x27;, &#x27;NDVI&#x27;, &#x27;RelativeAzimuth&#x27;, &#x27;SolarZenith&#x27;, &#x27;ViewZenith&#x27;, &#x27;sur_refl_b01.1&#x27;, &#x27;sur_refl_b02.1&#x27;, &#x27;sur_refl_b03.1&#x27;, &#x27;sur_refl_b07.1&#x27;, &#x27;ET&#x27;, &#x27;PET&#x27;, &#x27;VV&#x27;, &#x27;relativeOrbitNumber_start&#x27;, &#x27;B1&#x27;, &#x27;B12&#x27;, &#x27;B2&#x27;, &#x27;B3&#x27;, &#x27;B6&#x27;, &#x27;SENSING_ORBIT_NUMBER&#x27;]</pre></div> </div></div><div class=\"sk-serial\"><div class=\"sk-item\"><div class=\"sk-estimator fitted sk-toggleable\"><input class=\"sk-toggleable__control sk-hidden--visually\" id=\"sk-estimator-id-70\" type=\"checkbox\" ><label for=\"sk-estimator-id-70\" class=\"sk-toggleable__label fitted sk-toggleable__label-arrow\"><div><div>passthrough</div></div></label><div class=\"sk-toggleable__content fitted\"><pre>passthrough</pre></div> </div></div></div></div></div></div></div><div class=\"sk-item\"><div class=\"sk-estimator fitted sk-toggleable\"><input class=\"sk-toggleable__control sk-hidden--visually\" id=\"sk-estimator-id-71\" type=\"checkbox\" ><label for=\"sk-estimator-id-71\" class=\"sk-toggleable__label fitted sk-toggleable__label-arrow\"><div><div>HistGradientBoostingClassifier</div></div><div><a class=\"sk-estimator-doc-link fitted\" rel=\"noreferrer\" target=\"_blank\" href=\"https://scikit-learn.org/1.6/modules/generated/sklearn.ensemble.HistGradientBoostingClassifier.html\">?<span>Documentation for HistGradientBoostingClassifier</span></a></div></label><div class=\"sk-toggleable__content fitted\"><pre>HistGradientBoostingClassifier(random_state=0)</pre></div> </div></div></div></div></div></div>"
      ],
      "text/plain": [
       "Pipeline(steps=[('drop',\n",
       "                 FunctionTransformer(func=<function <lambda> at 0x0000020FBD3ABF60>)),\n",
       "                ('c',\n",
       "                 ColumnTransformer(remainder='passthrough',\n",
       "                                   transformers=[('log',\n",
       "                                                  FunctionTransformer(func=<ufunc 'log1p'>),\n",
       "                                                  ['VH', 'B11', 'B4', 'B5',\n",
       "                                                   'B7', 'B8', 'B8A', 'B9',\n",
       "                                                   'CLOUDY_PIXEL_PERCENTAGE',\n",
       "                                                   'MEAN_SOLAR_ZENITH_ANGLE',\n",
       "                                                   'NODATA_PIXEL_PERCENTAGE']),\n",
       "                                                 ('exp',\n",
       "                                                  FunctionTransformer(func=<ufunc 'expm1'>),\n",
       "                                                  ['mb1', 'mdem',\n",
       "                                                   'QA_PIXEL'])])),\n",
       "                ('hist', HistGradientBoostingClassifier(random_state=0))])"
      ]
     },
     "execution_count": 241,
     "metadata": {},
     "output_type": "execute_result"
    }
   ],
   "source": [
    "clf_hist.fit(X, max_nutrient_encoded)"
   ]
  },
  {
   "cell_type": "code",
   "execution_count": 168,
   "id": "822a344d",
   "metadata": {},
   "outputs": [
    {
     "name": "stderr",
     "output_type": "stream",
     "text": [
      "Plotting: 100%|██████████| 11/11 [00:11<00:00,  1.03s/it]\n"
     ]
    },
    {
     "data": {
      "image/png": "[encoded data removed]",
      "text/plain": [
       "<Figure size 1500x1600 with 12 Axes>"
      ]
     },
     "metadata": {},
     "output_type": "display_data"
    }
   ],
   "source": [
    "column_count = len(target_columns)\n",
    "nrows = (column_count + 2) // 3\n",
    "ncols = min(column_count, 3)\n",
    "fig, axs = plt.subplots(nrows=nrows, ncols=ncols,\n",
    "                        figsize=(5*ncols, 4*nrows),\n",
    "                        constrained_layout=True)\n",
    "axs = axs.reshape(-1)\n",
    "for i, col in enumerate(tqdm(target_columns, desc=\"Plotting\")):\n",
    "    axs[i].set_title(col)\n",
    "    sns.histplot(hue=max_nutrient, x=train_dropna[col], ax=axs[i],\n",
    "                 stat='density',  # Normalizes each hue group separately\n",
    "                 common_norm=False,  # Each hue gets its own scale\n",
    "                 kde=True, )\n",
    "plt.show()"
   ]
  },
  {
   "cell_type": "code",
   "execution_count": 244,
   "id": "619cc3e0",
   "metadata": {},
   "outputs": [],
   "source": [
    "def add_class(X: pd.DataFrame):\n",
    "    X = X.copy()\n",
    "    X['Ca_is_max'] = clf_hist.predict(X)\n",
    "    return X"
   ]
  },
  {
   "cell_type": "code",
   "execution_count": 245,
   "id": "3bc79c62",
   "metadata": {},
   "outputs": [
    {
     "name": "stdout",
     "output_type": "stream",
     "text": [
      "mean score: 599.8655015288984\n",
      "median score: 600.1010806942279\n",
      "std: 11.88327522853058\n",
      "scores:   [600.61687168 599.5852897  582.83565474 616.42418998]\n",
      "mean degraded\n",
      "median degraded\n"
     ]
    },
    {
     "data": {
      "text/plain": [
       "{'fit_time': array([71.13761997, 70.44819236, 70.93615484, 70.67364597]),\n",
       " 'score_time': array([0.49614215, 0.53578043, 0.50435281, 0.52058935]),\n",
       " 'test_score': array([-600.61687168, -599.5852897 , -582.83565474, -616.42418998])}"
      ]
     },
     "execution_count": 245,
     "metadata": {},
     "output_type": "execute_result"
    }
   ],
   "source": [
    "from sklearn.ensemble import HistGradientBoostingRegressor\n",
    "from sklearn.compose import TransformedTargetRegressor\n",
    "\n",
    "\n",
    "from sklearn.multioutput import MultiOutputRegressor\n",
    "hist = Pipeline([('class', FunctionTransformer(add_class)), drop_step, (\"hist\", MultiOutputRegressor(\n",
    "    TransformedTargetRegressor(regressor=HistGradientBoostingRegressor(random_state=0,\n",
    "                                                                       max_iter=300,\n",
    "                                                                       learning_rate=0.1,\n",
    "                                                                       loss='squared_error'),\n",
    "                               transformer=StandardScaler()),\n",
    "    n_jobs=2))])\n",
    "eval_model(hist, X, Y, n_jobs=4, n_splits=4, estimator_key=\"hist\")"
   ]
  },
  {
   "cell_type": "code",
   "execution_count": 246,
   "id": "afb5d7af",
   "metadata": {},
   "outputs": [
    {
     "name": "stdout",
     "output_type": "stream",
     "text": [
      "mean score: 587.5892745194744\n",
      "median score: 584.2689636121943\n",
      "std: 15.580355185462944\n",
      "scores:   [587.28429934 581.25362789 569.59400998 612.22516088]\n",
      "mean degraded\n",
      "median degraded\n"
     ]
    },
    {
     "data": {
      "text/plain": [
       "{'fit_time': array([251.63962412, 249.85268044, 251.09008455, 252.93594909]),\n",
       " 'score_time': array([0.2614634 , 0.57072473, 0.26966882, 0.17183065]),\n",
       " 'test_score': array([-587.28429934, -581.25362789, -569.59400998, -612.22516088])}"
      ]
     },
     "execution_count": 246,
     "metadata": {},
     "output_type": "execute_result"
    }
   ],
   "source": [
    "from xgboost import XGBRegressor\n",
    "xgb = Pipeline([('class', FunctionTransformer(add_class)), drop_step, (\"xgb\", (\n",
    "    TransformedTargetRegressor(regressor=XGBRegressor(\n",
    "        random_state=0,\n",
    "        n_estimators=300,\n",
    "        max_depth=10,\n",
    "        learning_rate=0.025,\n",
    "        subsample=0.6,\n",
    "        tree_method=\"hist\",\n",
    "        device=\"cuda\"),\n",
    "        transformer=StandardScaler())))])\n",
    "eval_model(xgb, X, Y, n_jobs=-1, n_splits=4, estimator_key=\"xgb\")"
   ]
  },
  {
   "cell_type": "code",
   "execution_count": 238,
   "id": "7fdfce77",
   "metadata": {},
   "outputs": [
    {
     "name": "stderr",
     "output_type": "stream",
     "text": [
      "c:\\Users\\Omer\\AppData\\Local\\Programs\\Python\\Python313\\Lib\\site-packages\\pandas\\core\\internals\\blocks.py:393: RuntimeWarning: invalid value encountered in log1p\n",
      "  result = func(self.values, **kwargs)\n",
      "c:\\Users\\Omer\\AppData\\Local\\Programs\\Python\\Python313\\Lib\\site-packages\\pandas\\core\\internals\\blocks.py:393: RuntimeWarning: overflow encountered in expm1\n",
      "  result = func(self.values, **kwargs)\n"
     ]
    },
    {
     "data": {
      "text/html": [
       "<style>#sk-container-id-9 {\n",
       "  /* Definition of color scheme common for light and dark mode */\n",
       "  --sklearn-color-text: #000;\n",
       "  --sklearn-color-text-muted: #666;\n",
       "  --sklearn-color-line: gray;\n",
       "  /* Definition of color scheme for unfitted estimators */\n",
       "  --sklearn-color-unfitted-level-0: #fff5e6;\n",
       "  --sklearn-color-unfitted-level-1: #f6e4d2;\n",
       "  --sklearn-color-unfitted-level-2: #ffe0b3;\n",
       "  --sklearn-color-unfitted-level-3: chocolate;\n",
       "  /* Definition of color scheme for fitted estimators */\n",
       "  --sklearn-color-fitted-level-0: #f0f8ff;\n",
       "  --sklearn-color-fitted-level-1: #d4ebff;\n",
       "  --sklearn-color-fitted-level-2: #b3dbfd;\n",
       "  --sklearn-color-fitted-level-3: cornflowerblue;\n",
       "\n",
       "  /* Specific color for light theme */\n",
       "  --sklearn-color-text-on-default-background: var(--sg-text-color, var(--theme-code-foreground, var(--jp-content-font-color1, black)));\n",
       "  --sklearn-color-background: var(--sg-background-color, var(--theme-background, var(--jp-layout-color0, white)));\n",
       "  --sklearn-color-border-box: var(--sg-text-color, var(--theme-code-foreground, var(--jp-content-font-color1, black)));\n",
       "  --sklearn-color-icon: #696969;\n",
       "\n",
       "  @media (prefers-color-scheme: dark) {\n",
       "    /* Redefinition of color scheme for dark theme */\n",
       "    --sklearn-color-text-on-default-background: var(--sg-text-color, var(--theme-code-foreground, var(--jp-content-font-color1, white)));\n",
       "    --sklearn-color-background: var(--sg-background-color, var(--theme-background, var(--jp-layout-color0, #111)));\n",
       "    --sklearn-color-border-box: var(--sg-text-color, var(--theme-code-foreground, var(--jp-content-font-color1, white)));\n",
       "    --sklearn-color-icon: #878787;\n",
       "  }\n",
       "}\n",
       "\n",
       "#sk-container-id-9 {\n",
       "  color: var(--sklearn-color-text);\n",
       "}\n",
       "\n",
       "#sk-container-id-9 pre {\n",
       "  padding: 0;\n",
       "}\n",
       "\n",
       "#sk-container-id-9 input.sk-hidden--visually {\n",
       "  border: 0;\n",
       "  clip: rect(1px 1px 1px 1px);\n",
       "  clip: rect(1px, 1px, 1px, 1px);\n",
       "  height: 1px;\n",
       "  margin: -1px;\n",
       "  overflow: hidden;\n",
       "  padding: 0;\n",
       "  position: absolute;\n",
       "  width: 1px;\n",
       "}\n",
       "\n",
       "#sk-container-id-9 div.sk-dashed-wrapped {\n",
       "  border: 1px dashed var(--sklearn-color-line);\n",
       "  margin: 0 0.4em 0.5em 0.4em;\n",
       "  box-sizing: border-box;\n",
       "  padding-bottom: 0.4em;\n",
       "  background-color: var(--sklearn-color-background);\n",
       "}\n",
       "\n",
       "#sk-container-id-9 div.sk-container {\n",
       "  /* jupyter's `normalize.less` sets `[hidden] { display: none; }`\n",
       "     but bootstrap.min.css set `[hidden] { display: none !important; }`\n",
       "     so we also need the `!important` here to be able to override the\n",
       "     default hidden behavior on the sphinx rendered scikit-learn.org.\n",
       "     See: https://github.com/scikit-learn/scikit-learn/issues/21755 */\n",
       "  display: inline-block !important;\n",
       "  position: relative;\n",
       "}\n",
       "\n",
       "#sk-container-id-9 div.sk-text-repr-fallback {\n",
       "  display: none;\n",
       "}\n",
       "\n",
       "div.sk-parallel-item,\n",
       "div.sk-serial,\n",
       "div.sk-item {\n",
       "  /* draw centered vertical line to link estimators */\n",
       "  background-image: linear-gradient(var(--sklearn-color-text-on-default-background), var(--sklearn-color-text-on-default-background));\n",
       "  background-size: 2px 100%;\n",
       "  background-repeat: no-repeat;\n",
       "  background-position: center center;\n",
       "}\n",
       "\n",
       "/* Parallel-specific style estimator block */\n",
       "\n",
       "#sk-container-id-9 div.sk-parallel-item::after {\n",
       "  content: \"\";\n",
       "  width: 100%;\n",
       "  border-bottom: 2px solid var(--sklearn-color-text-on-default-background);\n",
       "  flex-grow: 1;\n",
       "}\n",
       "\n",
       "#sk-container-id-9 div.sk-parallel {\n",
       "  display: flex;\n",
       "  align-items: stretch;\n",
       "  justify-content: center;\n",
       "  background-color: var(--sklearn-color-background);\n",
       "  position: relative;\n",
       "}\n",
       "\n",
       "#sk-container-id-9 div.sk-parallel-item {\n",
       "  display: flex;\n",
       "  flex-direction: column;\n",
       "}\n",
       "\n",
       "#sk-container-id-9 div.sk-parallel-item:first-child::after {\n",
       "  align-self: flex-end;\n",
       "  width: 50%;\n",
       "}\n",
       "\n",
       "#sk-container-id-9 div.sk-parallel-item:last-child::after {\n",
       "  align-self: flex-start;\n",
       "  width: 50%;\n",
       "}\n",
       "\n",
       "#sk-container-id-9 div.sk-parallel-item:only-child::after {\n",
       "  width: 0;\n",
       "}\n",
       "\n",
       "/* Serial-specific style estimator block */\n",
       "\n",
       "#sk-container-id-9 div.sk-serial {\n",
       "  display: flex;\n",
       "  flex-direction: column;\n",
       "  align-items: center;\n",
       "  background-color: var(--sklearn-color-background);\n",
       "  padding-right: 1em;\n",
       "  padding-left: 1em;\n",
       "}\n",
       "\n",
       "\n",
       "/* Toggleable style: style used for estimator/Pipeline/ColumnTransformer box that is\n",
       "clickable and can be expanded/collapsed.\n",
       "- Pipeline and ColumnTransformer use this feature and define the default style\n",
       "- Estimators will overwrite some part of the style using the `sk-estimator` class\n",
       "*/\n",
       "\n",
       "/* Pipeline and ColumnTransformer style (default) */\n",
       "\n",
       "#sk-container-id-9 div.sk-toggleable {\n",
       "  /* Default theme specific background. It is overwritten whether we have a\n",
       "  specific estimator or a Pipeline/ColumnTransformer */\n",
       "  background-color: var(--sklearn-color-background);\n",
       "}\n",
       "\n",
       "/* Toggleable label */\n",
       "#sk-container-id-9 label.sk-toggleable__label {\n",
       "  cursor: pointer;\n",
       "  display: flex;\n",
       "  width: 100%;\n",
       "  margin-bottom: 0;\n",
       "  padding: 0.5em;\n",
       "  box-sizing: border-box;\n",
       "  text-align: center;\n",
       "  align-items: start;\n",
       "  justify-content: space-between;\n",
       "  gap: 0.5em;\n",
       "}\n",
       "\n",
       "#sk-container-id-9 label.sk-toggleable__label .caption {\n",
       "  font-size: 0.6rem;\n",
       "  font-weight: lighter;\n",
       "  color: var(--sklearn-color-text-muted);\n",
       "}\n",
       "\n",
       "#sk-container-id-9 label.sk-toggleable__label-arrow:before {\n",
       "  /* Arrow on the left of the label */\n",
       "  content: \"▸\";\n",
       "  float: left;\n",
       "  margin-right: 0.25em;\n",
       "  color: var(--sklearn-color-icon);\n",
       "}\n",
       "\n",
       "#sk-container-id-9 label.sk-toggleable__label-arrow:hover:before {\n",
       "  color: var(--sklearn-color-text);\n",
       "}\n",
       "\n",
       "/* Toggleable content - dropdown */\n",
       "\n",
       "#sk-container-id-9 div.sk-toggleable__content {\n",
       "  max-height: 0;\n",
       "  max-width: 0;\n",
       "  overflow: hidden;\n",
       "  text-align: left;\n",
       "  /* unfitted */\n",
       "  background-color: var(--sklearn-color-unfitted-level-0);\n",
       "}\n",
       "\n",
       "#sk-container-id-9 div.sk-toggleable__content.fitted {\n",
       "  /* fitted */\n",
       "  background-color: var(--sklearn-color-fitted-level-0);\n",
       "}\n",
       "\n",
       "#sk-container-id-9 div.sk-toggleable__content pre {\n",
       "  margin: 0.2em;\n",
       "  border-radius: 0.25em;\n",
       "  color: var(--sklearn-color-text);\n",
       "  /* unfitted */\n",
       "  background-color: var(--sklearn-color-unfitted-level-0);\n",
       "}\n",
       "\n",
       "#sk-container-id-9 div.sk-toggleable__content.fitted pre {\n",
       "  /* unfitted */\n",
       "  background-color: var(--sklearn-color-fitted-level-0);\n",
       "}\n",
       "\n",
       "#sk-container-id-9 input.sk-toggleable__control:checked~div.sk-toggleable__content {\n",
       "  /* Expand drop-down */\n",
       "  max-height: 200px;\n",
       "  max-width: 100%;\n",
       "  overflow: auto;\n",
       "}\n",
       "\n",
       "#sk-container-id-9 input.sk-toggleable__control:checked~label.sk-toggleable__label-arrow:before {\n",
       "  content: \"▾\";\n",
       "}\n",
       "\n",
       "/* Pipeline/ColumnTransformer-specific style */\n",
       "\n",
       "#sk-container-id-9 div.sk-label input.sk-toggleable__control:checked~label.sk-toggleable__label {\n",
       "  color: var(--sklearn-color-text);\n",
       "  background-color: var(--sklearn-color-unfitted-level-2);\n",
       "}\n",
       "\n",
       "#sk-container-id-9 div.sk-label.fitted input.sk-toggleable__control:checked~label.sk-toggleable__label {\n",
       "  background-color: var(--sklearn-color-fitted-level-2);\n",
       "}\n",
       "\n",
       "/* Estimator-specific style */\n",
       "\n",
       "/* Colorize estimator box */\n",
       "#sk-container-id-9 div.sk-estimator input.sk-toggleable__control:checked~label.sk-toggleable__label {\n",
       "  /* unfitted */\n",
       "  background-color: var(--sklearn-color-unfitted-level-2);\n",
       "}\n",
       "\n",
       "#sk-container-id-9 div.sk-estimator.fitted input.sk-toggleable__control:checked~label.sk-toggleable__label {\n",
       "  /* fitted */\n",
       "  background-color: var(--sklearn-color-fitted-level-2);\n",
       "}\n",
       "\n",
       "#sk-container-id-9 div.sk-label label.sk-toggleable__label,\n",
       "#sk-container-id-9 div.sk-label label {\n",
       "  /* The background is the default theme color */\n",
       "  color: var(--sklearn-color-text-on-default-background);\n",
       "}\n",
       "\n",
       "/* On hover, darken the color of the background */\n",
       "#sk-container-id-9 div.sk-label:hover label.sk-toggleable__label {\n",
       "  color: var(--sklearn-color-text);\n",
       "  background-color: var(--sklearn-color-unfitted-level-2);\n",
       "}\n",
       "\n",
       "/* Label box, darken color on hover, fitted */\n",
       "#sk-container-id-9 div.sk-label.fitted:hover label.sk-toggleable__label.fitted {\n",
       "  color: var(--sklearn-color-text);\n",
       "  background-color: var(--sklearn-color-fitted-level-2);\n",
       "}\n",
       "\n",
       "/* Estimator label */\n",
       "\n",
       "#sk-container-id-9 div.sk-label label {\n",
       "  font-family: monospace;\n",
       "  font-weight: bold;\n",
       "  display: inline-block;\n",
       "  line-height: 1.2em;\n",
       "}\n",
       "\n",
       "#sk-container-id-9 div.sk-label-container {\n",
       "  text-align: center;\n",
       "}\n",
       "\n",
       "/* Estimator-specific */\n",
       "#sk-container-id-9 div.sk-estimator {\n",
       "  font-family: monospace;\n",
       "  border: 1px dotted var(--sklearn-color-border-box);\n",
       "  border-radius: 0.25em;\n",
       "  box-sizing: border-box;\n",
       "  margin-bottom: 0.5em;\n",
       "  /* unfitted */\n",
       "  background-color: var(--sklearn-color-unfitted-level-0);\n",
       "}\n",
       "\n",
       "#sk-container-id-9 div.sk-estimator.fitted {\n",
       "  /* fitted */\n",
       "  background-color: var(--sklearn-color-fitted-level-0);\n",
       "}\n",
       "\n",
       "/* on hover */\n",
       "#sk-container-id-9 div.sk-estimator:hover {\n",
       "  /* unfitted */\n",
       "  background-color: var(--sklearn-color-unfitted-level-2);\n",
       "}\n",
       "\n",
       "#sk-container-id-9 div.sk-estimator.fitted:hover {\n",
       "  /* fitted */\n",
       "  background-color: var(--sklearn-color-fitted-level-2);\n",
       "}\n",
       "\n",
       "/* Specification for estimator info (e.g. \"i\" and \"?\") */\n",
       "\n",
       "/* Common style for \"i\" and \"?\" */\n",
       "\n",
       ".sk-estimator-doc-link,\n",
       "a:link.sk-estimator-doc-link,\n",
       "a:visited.sk-estimator-doc-link {\n",
       "  float: right;\n",
       "  font-size: smaller;\n",
       "  line-height: 1em;\n",
       "  font-family: monospace;\n",
       "  background-color: var(--sklearn-color-background);\n",
       "  border-radius: 1em;\n",
       "  height: 1em;\n",
       "  width: 1em;\n",
       "  text-decoration: none !important;\n",
       "  margin-left: 0.5em;\n",
       "  text-align: center;\n",
       "  /* unfitted */\n",
       "  border: var(--sklearn-color-unfitted-level-1) 1pt solid;\n",
       "  color: var(--sklearn-color-unfitted-level-1);\n",
       "}\n",
       "\n",
       ".sk-estimator-doc-link.fitted,\n",
       "a:link.sk-estimator-doc-link.fitted,\n",
       "a:visited.sk-estimator-doc-link.fitted {\n",
       "  /* fitted */\n",
       "  border: var(--sklearn-color-fitted-level-1) 1pt solid;\n",
       "  color: var(--sklearn-color-fitted-level-1);\n",
       "}\n",
       "\n",
       "/* On hover */\n",
       "div.sk-estimator:hover .sk-estimator-doc-link:hover,\n",
       ".sk-estimator-doc-link:hover,\n",
       "div.sk-label-container:hover .sk-estimator-doc-link:hover,\n",
       ".sk-estimator-doc-link:hover {\n",
       "  /* unfitted */\n",
       "  background-color: var(--sklearn-color-unfitted-level-3);\n",
       "  color: var(--sklearn-color-background);\n",
       "  text-decoration: none;\n",
       "}\n",
       "\n",
       "div.sk-estimator.fitted:hover .sk-estimator-doc-link.fitted:hover,\n",
       ".sk-estimator-doc-link.fitted:hover,\n",
       "div.sk-label-container:hover .sk-estimator-doc-link.fitted:hover,\n",
       ".sk-estimator-doc-link.fitted:hover {\n",
       "  /* fitted */\n",
       "  background-color: var(--sklearn-color-fitted-level-3);\n",
       "  color: var(--sklearn-color-background);\n",
       "  text-decoration: none;\n",
       "}\n",
       "\n",
       "/* Span, style for the box shown on hovering the info icon */\n",
       ".sk-estimator-doc-link span {\n",
       "  display: none;\n",
       "  z-index: 9999;\n",
       "  position: relative;\n",
       "  font-weight: normal;\n",
       "  right: .2ex;\n",
       "  padding: .5ex;\n",
       "  margin: .5ex;\n",
       "  width: min-content;\n",
       "  min-width: 20ex;\n",
       "  max-width: 50ex;\n",
       "  color: var(--sklearn-color-text);\n",
       "  box-shadow: 2pt 2pt 4pt #999;\n",
       "  /* unfitted */\n",
       "  background: var(--sklearn-color-unfitted-level-0);\n",
       "  border: .5pt solid var(--sklearn-color-unfitted-level-3);\n",
       "}\n",
       "\n",
       ".sk-estimator-doc-link.fitted span {\n",
       "  /* fitted */\n",
       "  background: var(--sklearn-color-fitted-level-0);\n",
       "  border: var(--sklearn-color-fitted-level-3);\n",
       "}\n",
       "\n",
       ".sk-estimator-doc-link:hover span {\n",
       "  display: block;\n",
       "}\n",
       "\n",
       "/* \"?\"-specific style due to the `<a>` HTML tag */\n",
       "\n",
       "#sk-container-id-9 a.estimator_doc_link {\n",
       "  float: right;\n",
       "  font-size: 1rem;\n",
       "  line-height: 1em;\n",
       "  font-family: monospace;\n",
       "  background-color: var(--sklearn-color-background);\n",
       "  border-radius: 1rem;\n",
       "  height: 1rem;\n",
       "  width: 1rem;\n",
       "  text-decoration: none;\n",
       "  /* unfitted */\n",
       "  color: var(--sklearn-color-unfitted-level-1);\n",
       "  border: var(--sklearn-color-unfitted-level-1) 1pt solid;\n",
       "}\n",
       "\n",
       "#sk-container-id-9 a.estimator_doc_link.fitted {\n",
       "  /* fitted */\n",
       "  border: var(--sklearn-color-fitted-level-1) 1pt solid;\n",
       "  color: var(--sklearn-color-fitted-level-1);\n",
       "}\n",
       "\n",
       "/* On hover */\n",
       "#sk-container-id-9 a.estimator_doc_link:hover {\n",
       "  /* unfitted */\n",
       "  background-color: var(--sklearn-color-unfitted-level-3);\n",
       "  color: var(--sklearn-color-background);\n",
       "  text-decoration: none;\n",
       "}\n",
       "\n",
       "#sk-container-id-9 a.estimator_doc_link.fitted:hover {\n",
       "  /* fitted */\n",
       "  background-color: var(--sklearn-color-fitted-level-3);\n",
       "}\n",
       "</style><div id=\"sk-container-id-9\" class=\"sk-top-container\"><div class=\"sk-text-repr-fallback\"><pre>Pipeline(steps=[(&#x27;class&#x27;,\n",
       "                 FunctionTransformer(func=&lt;function add_class at 0x0000020FBD3BA980&gt;)),\n",
       "                (&#x27;drop&#x27;,\n",
       "                 FunctionTransformer(func=&lt;function &lt;lambda&gt; at 0x0000020F91031080&gt;)),\n",
       "                (&#x27;xgb&#x27;,\n",
       "                 TransformedTargetRegressor(regressor=XGBRegressor(base_score=None,\n",
       "                                                                   booster=None,\n",
       "                                                                   callbacks=None,\n",
       "                                                                   colsample_bylevel=None,\n",
       "                                                                   colsample_bynode=None,\n",
       "                                                                   colsample_bytree=None,\n",
       "                                                                   device=&#x27;cuda&#x27;,\n",
       "                                                                   ea...\n",
       "                                                                   grow_policy=None,\n",
       "                                                                   importance_type=None,\n",
       "                                                                   interaction_constraints=None,\n",
       "                                                                   learning_rate=0.025,\n",
       "                                                                   max_bin=None,\n",
       "                                                                   max_cat_threshold=None,\n",
       "                                                                   max_cat_to_onehot=None,\n",
       "                                                                   max_delta_step=None,\n",
       "                                                                   max_depth=10,\n",
       "                                                                   max_leaves=None,\n",
       "                                                                   min_child_weight=None,\n",
       "                                                                   missing=nan,\n",
       "                                                                   monotone_constraints=None,\n",
       "                                                                   multi_strategy=None,\n",
       "                                                                   n_estimators=300,\n",
       "                                                                   n_jobs=None,\n",
       "                                                                   num_parallel_tree=None, ...),\n",
       "                                            transformer=StandardScaler()))])</pre><b>In a Jupyter environment, please rerun this cell to show the HTML representation or trust the notebook. <br />On GitHub, the HTML representation is unable to render, please try loading this page with nbviewer.org.</b></div><div class=\"sk-container\" hidden><div class=\"sk-item sk-dashed-wrapped\"><div class=\"sk-label-container\"><div class=\"sk-label fitted sk-toggleable\"><input class=\"sk-toggleable__control sk-hidden--visually\" id=\"sk-estimator-id-54\" type=\"checkbox\" ><label for=\"sk-estimator-id-54\" class=\"sk-toggleable__label fitted sk-toggleable__label-arrow\"><div><div>Pipeline</div></div><div><a class=\"sk-estimator-doc-link fitted\" rel=\"noreferrer\" target=\"_blank\" href=\"https://scikit-learn.org/1.6/modules/generated/sklearn.pipeline.Pipeline.html\">?<span>Documentation for Pipeline</span></a><span class=\"sk-estimator-doc-link fitted\">i<span>Fitted</span></span></div></label><div class=\"sk-toggleable__content fitted\"><pre>Pipeline(steps=[(&#x27;class&#x27;,\n",
       "                 FunctionTransformer(func=&lt;function add_class at 0x0000020FBD3BA980&gt;)),\n",
       "                (&#x27;drop&#x27;,\n",
       "                 FunctionTransformer(func=&lt;function &lt;lambda&gt; at 0x0000020F91031080&gt;)),\n",
       "                (&#x27;xgb&#x27;,\n",
       "                 TransformedTargetRegressor(regressor=XGBRegressor(base_score=None,\n",
       "                                                                   booster=None,\n",
       "                                                                   callbacks=None,\n",
       "                                                                   colsample_bylevel=None,\n",
       "                                                                   colsample_bynode=None,\n",
       "                                                                   colsample_bytree=None,\n",
       "                                                                   device=&#x27;cuda&#x27;,\n",
       "                                                                   ea...\n",
       "                                                                   grow_policy=None,\n",
       "                                                                   importance_type=None,\n",
       "                                                                   interaction_constraints=None,\n",
       "                                                                   learning_rate=0.025,\n",
       "                                                                   max_bin=None,\n",
       "                                                                   max_cat_threshold=None,\n",
       "                                                                   max_cat_to_onehot=None,\n",
       "                                                                   max_delta_step=None,\n",
       "                                                                   max_depth=10,\n",
       "                                                                   max_leaves=None,\n",
       "                                                                   min_child_weight=None,\n",
       "                                                                   missing=nan,\n",
       "                                                                   monotone_constraints=None,\n",
       "                                                                   multi_strategy=None,\n",
       "                                                                   n_estimators=300,\n",
       "                                                                   n_jobs=None,\n",
       "                                                                   num_parallel_tree=None, ...),\n",
       "                                            transformer=StandardScaler()))])</pre></div> </div></div><div class=\"sk-serial\"><div class=\"sk-item\"><div class=\"sk-estimator fitted sk-toggleable\"><input class=\"sk-toggleable__control sk-hidden--visually\" id=\"sk-estimator-id-55\" type=\"checkbox\" ><label for=\"sk-estimator-id-55\" class=\"sk-toggleable__label fitted sk-toggleable__label-arrow\"><div><div>add_class</div><div class=\"caption\">FunctionTransformer</div></div><div><a class=\"sk-estimator-doc-link fitted\" rel=\"noreferrer\" target=\"_blank\" href=\"https://scikit-learn.org/1.6/modules/generated/sklearn.preprocessing.FunctionTransformer.html\">?<span>Documentation for FunctionTransformer</span></a></div></label><div class=\"sk-toggleable__content fitted\"><pre>FunctionTransformer(func=&lt;function add_class at 0x0000020FBD3BA980&gt;)</pre></div> </div></div><div class=\"sk-item\"><div class=\"sk-estimator fitted sk-toggleable\"><input class=\"sk-toggleable__control sk-hidden--visually\" id=\"sk-estimator-id-56\" type=\"checkbox\" ><label for=\"sk-estimator-id-56\" class=\"sk-toggleable__label fitted sk-toggleable__label-arrow\"><div><div>&lt;lambda&gt;</div><div class=\"caption\">FunctionTransformer</div></div><div><a class=\"sk-estimator-doc-link fitted\" rel=\"noreferrer\" target=\"_blank\" href=\"https://scikit-learn.org/1.6/modules/generated/sklearn.preprocessing.FunctionTransformer.html\">?<span>Documentation for FunctionTransformer</span></a></div></label><div class=\"sk-toggleable__content fitted\"><pre>FunctionTransformer(func=&lt;function &lt;lambda&gt; at 0x0000020F91031080&gt;)</pre></div> </div></div><div class=\"sk-item sk-dashed-wrapped\"><div class=\"sk-label-container\"><div class=\"sk-label fitted sk-toggleable\"><input class=\"sk-toggleable__control sk-hidden--visually\" id=\"sk-estimator-id-57\" type=\"checkbox\" ><label for=\"sk-estimator-id-57\" class=\"sk-toggleable__label fitted sk-toggleable__label-arrow\"><div><div>xgb: TransformedTargetRegressor</div></div><div><a class=\"sk-estimator-doc-link fitted\" rel=\"noreferrer\" target=\"_blank\" href=\"https://scikit-learn.org/1.6/modules/generated/sklearn.compose.TransformedTargetRegressor.html\">?<span>Documentation for xgb: TransformedTargetRegressor</span></a></div></label><div class=\"sk-toggleable__content fitted\"><pre>TransformedTargetRegressor(regressor=XGBRegressor(base_score=None, booster=None,\n",
       "                                                  callbacks=None,\n",
       "                                                  colsample_bylevel=None,\n",
       "                                                  colsample_bynode=None,\n",
       "                                                  colsample_bytree=None,\n",
       "                                                  device=&#x27;cuda&#x27;,\n",
       "                                                  early_stopping_rounds=None,\n",
       "                                                  enable_categorical=False,\n",
       "                                                  eval_metric=None,\n",
       "                                                  feature_types=None,\n",
       "                                                  feature_weights=None,\n",
       "                                                  gamma=None, grow_policy=None,\n",
       "                                                  importance_type=None,\n",
       "                                                  interaction_constraints=None,\n",
       "                                                  learning_rate=0.025,\n",
       "                                                  max_bin=None,\n",
       "                                                  max_cat_threshold=None,\n",
       "                                                  max_cat_to_onehot=None,\n",
       "                                                  max_delta_step=None,\n",
       "                                                  max_depth=10, max_leaves=None,\n",
       "                                                  min_child_weight=None,\n",
       "                                                  missing=nan,\n",
       "                                                  monotone_constraints=None,\n",
       "                                                  multi_strategy=None,\n",
       "                                                  n_estimators=300, n_jobs=None,\n",
       "                                                  num_parallel_tree=None, ...),\n",
       "                           transformer=StandardScaler())</pre></div> </div></div><div class=\"sk-parallel\"><div class=\"sk-parallel-item\"><div class=\"sk-item\"><div class=\"sk-label-container\"><div class=\"sk-label fitted sk-toggleable\"><input class=\"sk-toggleable__control sk-hidden--visually\" id=\"sk-estimator-id-58\" type=\"checkbox\" ><label for=\"sk-estimator-id-58\" class=\"sk-toggleable__label fitted sk-toggleable__label-arrow\"><div><div>regressor: XGBRegressor</div></div></label><div class=\"sk-toggleable__content fitted\"><pre>XGBRegressor(base_score=None, booster=None, callbacks=None,\n",
       "             colsample_bylevel=None, colsample_bynode=None,\n",
       "             colsample_bytree=None, device=&#x27;cuda&#x27;, early_stopping_rounds=None,\n",
       "             enable_categorical=False, eval_metric=None, feature_types=None,\n",
       "             feature_weights=None, gamma=None, grow_policy=None,\n",
       "             importance_type=None, interaction_constraints=None,\n",
       "             learning_rate=0.025, max_bin=None, max_cat_threshold=None,\n",
       "             max_cat_to_onehot=None, max_delta_step=None, max_depth=10,\n",
       "             max_leaves=None, min_child_weight=None, missing=nan,\n",
       "             monotone_constraints=None, multi_strategy=None, n_estimators=300,\n",
       "             n_jobs=None, num_parallel_tree=None, ...)</pre></div> </div></div><div class=\"sk-serial\"><div class=\"sk-item\"><div class=\"sk-estimator fitted sk-toggleable\"><input class=\"sk-toggleable__control sk-hidden--visually\" id=\"sk-estimator-id-59\" type=\"checkbox\" ><label for=\"sk-estimator-id-59\" class=\"sk-toggleable__label fitted sk-toggleable__label-arrow\"><div><div>XGBRegressor</div></div><div><a class=\"sk-estimator-doc-link fitted\" rel=\"noreferrer\" target=\"_blank\" href=\"https://xgboost.readthedocs.io/en/release_3.0.0/python/python_api.html#xgboost.XGBRegressor\">?<span>Documentation for XGBRegressor</span></a></div></label><div class=\"sk-toggleable__content fitted\"><pre>XGBRegressor(base_score=None, booster=None, callbacks=None,\n",
       "             colsample_bylevel=None, colsample_bynode=None,\n",
       "             colsample_bytree=None, device=&#x27;cuda&#x27;, early_stopping_rounds=None,\n",
       "             enable_categorical=False, eval_metric=None, feature_types=None,\n",
       "             feature_weights=None, gamma=None, grow_policy=None,\n",
       "             importance_type=None, interaction_constraints=None,\n",
       "             learning_rate=0.025, max_bin=None, max_cat_threshold=None,\n",
       "             max_cat_to_onehot=None, max_delta_step=None, max_depth=10,\n",
       "             max_leaves=None, min_child_weight=None, missing=nan,\n",
       "             monotone_constraints=None, multi_strategy=None, n_estimators=300,\n",
       "             n_jobs=None, num_parallel_tree=None, ...)</pre></div> </div></div></div></div></div><div class=\"sk-parallel-item\"><div class=\"sk-item\"><div class=\"sk-label-container\"><div class=\"sk-label fitted sk-toggleable\"><input class=\"sk-toggleable__control sk-hidden--visually\" id=\"sk-estimator-id-60\" type=\"checkbox\" ><label for=\"sk-estimator-id-60\" class=\"sk-toggleable__label fitted sk-toggleable__label-arrow\"><div><div>transformer: StandardScaler</div></div></label><div class=\"sk-toggleable__content fitted\"><pre>StandardScaler()</pre></div> </div></div><div class=\"sk-serial\"><div class=\"sk-item\"><div class=\"sk-estimator fitted sk-toggleable\"><input class=\"sk-toggleable__control sk-hidden--visually\" id=\"sk-estimator-id-61\" type=\"checkbox\" ><label for=\"sk-estimator-id-61\" class=\"sk-toggleable__label fitted sk-toggleable__label-arrow\"><div><div>StandardScaler</div></div><div><a class=\"sk-estimator-doc-link fitted\" rel=\"noreferrer\" target=\"_blank\" href=\"https://scikit-learn.org/1.6/modules/generated/sklearn.preprocessing.StandardScaler.html\">?<span>Documentation for StandardScaler</span></a></div></label><div class=\"sk-toggleable__content fitted\"><pre>StandardScaler()</pre></div> </div></div></div></div></div></div></div></div></div></div></div>"
      ],
      "text/plain": [
       "Pipeline(steps=[('class',\n",
       "                 FunctionTransformer(func=<function add_class at 0x0000020FBD3BA980>)),\n",
       "                ('drop',\n",
       "                 FunctionTransformer(func=<function <lambda> at 0x0000020F91031080>)),\n",
       "                ('xgb',\n",
       "                 TransformedTargetRegressor(regressor=XGBRegressor(base_score=None,\n",
       "                                                                   booster=None,\n",
       "                                                                   callbacks=None,\n",
       "                                                                   colsample_bylevel=None,\n",
       "                                                                   colsample_bynode=None,\n",
       "                                                                   colsample_bytree=None,\n",
       "                                                                   device='cuda',\n",
       "                                                                   ea...\n",
       "                                                                   grow_policy=None,\n",
       "                                                                   importance_type=None,\n",
       "                                                                   interaction_constraints=None,\n",
       "                                                                   learning_rate=0.025,\n",
       "                                                                   max_bin=None,\n",
       "                                                                   max_cat_threshold=None,\n",
       "                                                                   max_cat_to_onehot=None,\n",
       "                                                                   max_delta_step=None,\n",
       "                                                                   max_depth=10,\n",
       "                                                                   max_leaves=None,\n",
       "                                                                   min_child_weight=None,\n",
       "                                                                   missing=nan,\n",
       "                                                                   monotone_constraints=None,\n",
       "                                                                   multi_strategy=None,\n",
       "                                                                   n_estimators=300,\n",
       "                                                                   n_jobs=None,\n",
       "                                                                   num_parallel_tree=None, ...),\n",
       "                                            transformer=StandardScaler()))])"
      ]
     },
     "execution_count": 238,
     "metadata": {},
     "output_type": "execute_result"
    }
   ],
   "source": [
    "xgb.fit(X, Y)"
   ]
  },
  {
   "cell_type": "code",
   "execution_count": 239,
   "id": "39a3206e",
   "metadata": {},
   "outputs": [
    {
     "name": "stderr",
     "output_type": "stream",
     "text": [
      "c:\\Users\\Omer\\AppData\\Local\\Programs\\Python\\Python313\\Lib\\site-packages\\pandas\\core\\internals\\blocks.py:393: RuntimeWarning: invalid value encountered in log1p\n",
      "  result = func(self.values, **kwargs)\n",
      "c:\\Users\\Omer\\AppData\\Local\\Programs\\Python\\Python313\\Lib\\site-packages\\pandas\\core\\internals\\blocks.py:393: RuntimeWarning: overflow encountered in expm1\n",
      "  result = func(self.values, **kwargs)\n"
     ]
    },
    {
     "data": {
      "text/html": [
       "<div>\n",
       "<style scoped>\n",
       "    .dataframe tbody tr th:only-of-type {\n",
       "        vertical-align: middle;\n",
       "    }\n",
       "\n",
       "    .dataframe tbody tr th {\n",
       "        vertical-align: top;\n",
       "    }\n",
       "\n",
       "    .dataframe thead th {\n",
       "        text-align: right;\n",
       "    }\n",
       "</style>\n",
       "<table border=\"1\" class=\"dataframe\">\n",
       "  <thead>\n",
       "    <tr style=\"text-align: right;\">\n",
       "      <th></th>\n",
       "      <th>ID</th>\n",
       "      <th>Gap</th>\n",
       "    </tr>\n",
       "  </thead>\n",
       "  <tbody>\n",
       "    <tr>\n",
       "      <th>0</th>\n",
       "      <td>ID_NGS9Bx_N</td>\n",
       "      <td>-2992.251465</td>\n",
       "    </tr>\n",
       "    <tr>\n",
       "      <th>1</th>\n",
       "      <td>ID_YdVKXw_N</td>\n",
       "      <td>-2995.922773</td>\n",
       "    </tr>\n",
       "    <tr>\n",
       "      <th>2</th>\n",
       "      <td>ID_MZAlfE_N</td>\n",
       "      <td>-3451.003394</td>\n",
       "    </tr>\n",
       "    <tr>\n",
       "      <th>3</th>\n",
       "      <td>ID_GwCCMN_N</td>\n",
       "      <td>-3784.558037</td>\n",
       "    </tr>\n",
       "    <tr>\n",
       "      <th>4</th>\n",
       "      <td>ID_K8sowf_N</td>\n",
       "      <td>-3980.807275</td>\n",
       "    </tr>\n",
       "  </tbody>\n",
       "</table>\n",
       "</div>"
      ],
      "text/plain": [
       "            ID          Gap\n",
       "0  ID_NGS9Bx_N -2992.251465\n",
       "1  ID_YdVKXw_N -2995.922773\n",
       "2  ID_MZAlfE_N -3451.003394\n",
       "3  ID_GwCCMN_N -3784.558037\n",
       "4  ID_K8sowf_N -3980.807275"
      ]
     },
     "execution_count": 239,
     "metadata": {},
     "output_type": "execute_result"
    }
   ],
   "source": [
    "predictions = predict(xgb, test)\n",
    "predictions.to_csv(\"submissions/xgb_submission.csv\", index=False)\n",
    "predictions.head()"
   ]
  },
  {
   "cell_type": "code",
   "execution_count": 13,
   "id": "8ad483b1",
   "metadata": {},
   "outputs": [
    {
     "name": "stderr",
     "output_type": "stream",
     "text": [
      "  0%|          | 0/11 [00:00<?, ?it/s]"
     ]
    },
    {
     "name": "stdout",
     "output_type": "stream",
     "text": [
      "N\n"
     ]
    },
    {
     "name": "stderr",
     "output_type": "stream",
     "text": [
      "  9%|▉         | 1/11 [00:07<01:11,  7.11s/it]"
     ]
    },
    {
     "name": "stdout",
     "output_type": "stream",
     "text": [
      "mean score: 885.9682168985142\n",
      "median score: 884.5654740768233\n",
      "std: 16.526249362466775\n",
      "scores:   [876.59454248 861.10173583 884.56547408 900.45791355 907.12141856]\n",
      "first evaluation\n",
      "(np.float64(885.9682168985142), np.float64(0.5363149373694673))\n",
      "P\n"
     ]
    },
    {
     "name": "stderr",
     "output_type": "stream",
     "text": [
      " 18%|█▊        | 2/11 [00:11<00:50,  5.64s/it]"
     ]
    },
    {
     "name": "stdout",
     "output_type": "stream",
     "text": [
      "mean score: 38.960558602019326\n",
      "median score: 38.32391858341182\n",
      "std: 2.7894162731315726\n",
      "scores:   [36.14538451 39.6506845  36.71621544 43.96658997 38.32391858]\n",
      "first evaluation\n",
      "(np.float64(38.960558602019326), np.float64(2.498430362425205))\n",
      "K\n"
     ]
    },
    {
     "name": "stderr",
     "output_type": "stream",
     "text": [
      " 27%|██▋       | 3/11 [00:15<00:39,  4.92s/it]"
     ]
    },
    {
     "name": "stdout",
     "output_type": "stream",
     "text": [
      "mean score: 308.4990817180081\n",
      "median score: 305.9392791338762\n",
      "std: 9.001880959307774\n",
      "scores:   [305.93927913 295.46842513 304.58873396 321.66907205 314.82989832]\n",
      "first evaluation\n",
      "(np.float64(308.4990817180081), np.float64(0.7620474711862001))\n",
      "Ca\n"
     ]
    },
    {
     "name": "stderr",
     "output_type": "stream",
     "text": [
      " 36%|███▋      | 4/11 [00:19<00:31,  4.49s/it]"
     ]
    },
    {
     "name": "stdout",
     "output_type": "stream",
     "text": [
      "mean score: 2359.688811520246\n",
      "median score: 2317.0955812214897\n",
      "std: 122.81098610406066\n",
      "scores:   [2218.01454518 2473.89613827 2317.09558122 2256.82512694 2532.61266599]\n",
      "first evaluation\n",
      "(np.float64(2359.688811520246), np.float64(0.4600480972808728))\n",
      "Mg\n"
     ]
    },
    {
     "name": "stderr",
     "output_type": "stream",
     "text": [
      " 45%|████▌     | 5/11 [00:23<00:25,  4.28s/it]"
     ]
    },
    {
     "name": "stdout",
     "output_type": "stream",
     "text": [
      "mean score: 523.3367781628092\n",
      "median score: 526.143438161684\n",
      "std: 7.356491538006047\n",
      "scores:   [511.5478667  526.14343816 518.74559546 527.82827755 532.41871295]\n",
      "first evaluation\n",
      "(np.float64(523.3367781628092), np.float64(0.6002154096459078))\n",
      "S\n"
     ]
    },
    {
     "name": "stderr",
     "output_type": "stream",
     "text": [
      " 55%|█████▍    | 6/11 [00:26<00:19,  3.94s/it]"
     ]
    },
    {
     "name": "stdout",
     "output_type": "stream",
     "text": [
      "mean score: 9.526423197936879\n",
      "median score: 9.717538075503318\n",
      "std: 0.9249635110046284\n",
      "scores:   [ 9.71753808  8.51289262  8.42933559 10.77614958 10.19620011]\n",
      "first evaluation\n",
      "(np.float64(9.526423197936879), np.float64(0.8776010220100515))\n",
      "Fe\n"
     ]
    },
    {
     "name": "stderr",
     "output_type": "stream",
     "text": [
      " 64%|██████▎   | 7/11 [00:30<00:15,  3.79s/it]"
     ]
    },
    {
     "name": "stdout",
     "output_type": "stream",
     "text": [
      "mean score: 75.62602311187166\n",
      "median score: 76.17916243388261\n",
      "std: 1.017066465757656\n",
      "scores:   [74.18201415 74.66378402 76.28981718 76.81533777 76.17916243]\n",
      "first evaluation\n",
      "(np.float64(75.62602311187166), np.float64(0.5498950227142632))\n",
      "Mn\n"
     ]
    },
    {
     "name": "stderr",
     "output_type": "stream",
     "text": [
      " 73%|███████▎  | 8/11 [00:33<00:10,  3.62s/it]"
     ]
    },
    {
     "name": "stdout",
     "output_type": "stream",
     "text": [
      "mean score: 96.06327181873235\n",
      "median score: 96.01792649685513\n",
      "std: 1.4342928244440911\n",
      "scores:   [95.29573677 96.69457119 98.3081037  94.00002093 96.0179265 ]\n",
      "first evaluation\n",
      "(np.float64(96.06327181873235), np.float64(0.6817633167992053))\n",
      "Zn\n"
     ]
    },
    {
     "name": "stderr",
     "output_type": "stream",
     "text": [
      " 82%|████████▏ | 9/11 [00:36<00:06,  3.43s/it]"
     ]
    },
    {
     "name": "stdout",
     "output_type": "stream",
     "text": [
      "mean score: 2.568428550772882\n",
      "median score: 2.524478261799121\n",
      "std: 0.07542745396147675\n",
      "scores:   [2.48376737 2.68467983 2.52447826 2.6282585  2.52095879]\n",
      "first evaluation\n",
      "(np.float64(2.568428550772882), np.float64(1.1996161357933501))\n",
      "Cu\n"
     ]
    },
    {
     "name": "stderr",
     "output_type": "stream",
     "text": [
      " 91%|█████████ | 10/11 [00:39<00:03,  3.36s/it]"
     ]
    },
    {
     "name": "stdout",
     "output_type": "stream",
     "text": [
      "mean score: 2.4070152861993073\n",
      "median score: 2.407128681194389\n",
      "std: 0.06153074291900232\n",
      "scores:   [2.38305812 2.40772829 2.40712868 2.32348025 2.51368109]\n",
      "first evaluation\n",
      "(np.float64(2.4070152861993073), np.float64(0.6869769287330234))\n",
      "B\n"
     ]
    },
    {
     "name": "stderr",
     "output_type": "stream",
     "text": [
      "100%|██████████| 11/11 [00:42<00:00,  3.89s/it]"
     ]
    },
    {
     "name": "stdout",
     "output_type": "stream",
     "text": [
      "mean score: 0.34102066964008404\n",
      "median score: 0.3482378548107798\n",
      "std: 0.014701998319678838\n",
      "scores:   [0.33728945 0.34823785 0.31390787 0.3523259  0.35334227]\n",
      "first evaluation\n",
      "(np.float64(0.34102066964008404), np.float64(0.861771008417802))\n"
     ]
    },
    {
     "name": "stderr",
     "output_type": "stream",
     "text": [
      "\n"
     ]
    }
   ],
   "source": [
    "target_score = {}\n",
    "for target in tqdm(target_columns):\n",
    "    print(target)\n",
    "    m = Y[target].mean()\n",
    "    h = Pipeline([drop_step, cluster_step,\n",
    "                  (\"hist\", HistGradientBoostingRegressor(random_state=0))])\n",
    "    r = eval_model(h, X, Y[target].values, n_jobs=-1, estimator_key=target)\n",
    "    scores = -r['test_score']\n",
    "    mean_ = np.mean(scores)\n",
    "    target_score[target] = (mean_,  mean_/m)\n",
    "    print(target_score[target])"
   ]
  },
  {
   "cell_type": "code",
   "execution_count": 111,
   "id": "e5de3247",
   "metadata": {},
   "outputs": [
    {
     "data": {
      "text/html": [
       "<div>\n",
       "<style scoped>\n",
       "    .dataframe tbody tr th:only-of-type {\n",
       "        vertical-align: middle;\n",
       "    }\n",
       "\n",
       "    .dataframe tbody tr th {\n",
       "        vertical-align: top;\n",
       "    }\n",
       "\n",
       "    .dataframe thead th {\n",
       "        text-align: right;\n",
       "    }\n",
       "</style>\n",
       "<table border=\"1\" class=\"dataframe\">\n",
       "  <thead>\n",
       "    <tr style=\"text-align: right;\">\n",
       "      <th></th>\n",
       "      <th>Variable</th>\n",
       "      <th>RMSE</th>\n",
       "      <th>RMSE normalized</th>\n",
       "    </tr>\n",
       "  </thead>\n",
       "  <tbody>\n",
       "    <tr>\n",
       "      <th>1</th>\n",
       "      <td>P</td>\n",
       "      <td>38.960559</td>\n",
       "      <td>2.498430</td>\n",
       "    </tr>\n",
       "    <tr>\n",
       "      <th>8</th>\n",
       "      <td>Zn</td>\n",
       "      <td>2.568429</td>\n",
       "      <td>1.199616</td>\n",
       "    </tr>\n",
       "    <tr>\n",
       "      <th>5</th>\n",
       "      <td>S</td>\n",
       "      <td>9.526423</td>\n",
       "      <td>0.877601</td>\n",
       "    </tr>\n",
       "    <tr>\n",
       "      <th>10</th>\n",
       "      <td>B</td>\n",
       "      <td>0.341021</td>\n",
       "      <td>0.861771</td>\n",
       "    </tr>\n",
       "    <tr>\n",
       "      <th>2</th>\n",
       "      <td>K</td>\n",
       "      <td>308.499082</td>\n",
       "      <td>0.762047</td>\n",
       "    </tr>\n",
       "    <tr>\n",
       "      <th>9</th>\n",
       "      <td>Cu</td>\n",
       "      <td>2.407015</td>\n",
       "      <td>0.686977</td>\n",
       "    </tr>\n",
       "    <tr>\n",
       "      <th>7</th>\n",
       "      <td>Mn</td>\n",
       "      <td>96.063272</td>\n",
       "      <td>0.681763</td>\n",
       "    </tr>\n",
       "    <tr>\n",
       "      <th>4</th>\n",
       "      <td>Mg</td>\n",
       "      <td>523.336778</td>\n",
       "      <td>0.600215</td>\n",
       "    </tr>\n",
       "    <tr>\n",
       "      <th>6</th>\n",
       "      <td>Fe</td>\n",
       "      <td>75.626023</td>\n",
       "      <td>0.549895</td>\n",
       "    </tr>\n",
       "    <tr>\n",
       "      <th>0</th>\n",
       "      <td>N</td>\n",
       "      <td>885.968217</td>\n",
       "      <td>0.536315</td>\n",
       "    </tr>\n",
       "    <tr>\n",
       "      <th>3</th>\n",
       "      <td>Ca</td>\n",
       "      <td>2359.688812</td>\n",
       "      <td>0.460048</td>\n",
       "    </tr>\n",
       "  </tbody>\n",
       "</table>\n",
       "</div>"
      ],
      "text/plain": [
       "   Variable         RMSE  RMSE normalized\n",
       "1         P    38.960559         2.498430\n",
       "8        Zn     2.568429         1.199616\n",
       "5         S     9.526423         0.877601\n",
       "10        B     0.341021         0.861771\n",
       "2         K   308.499082         0.762047\n",
       "9        Cu     2.407015         0.686977\n",
       "7        Mn    96.063272         0.681763\n",
       "4        Mg   523.336778         0.600215\n",
       "6        Fe    75.626023         0.549895\n",
       "0         N   885.968217         0.536315\n",
       "3        Ca  2359.688812         0.460048"
      ]
     },
     "execution_count": 111,
     "metadata": {},
     "output_type": "execute_result"
    }
   ],
   "source": [
    "t = pd.DataFrame({\"Variable\": target_score.keys(),\n",
    "                 \"RMSE\": target_score.values()})\n",
    "t['RMSE normalized'] = t[\"RMSE\"].map(lambda x: x[1])\n",
    "t['RMSE'] = t[\"RMSE\"].map(lambda x: x[0])\n",
    "t = t.sort_values(by=[\"RMSE normalized\", \"RMSE\"], ascending=False)\n",
    "t"
   ]
  },
  {
   "cell_type": "code",
   "execution_count": 17,
   "id": "1b3a925a",
   "metadata": {},
   "outputs": [
    {
     "name": "stdout",
     "output_type": "stream",
     "text": [
      "Feature importances: [0.00000000e+00 0.00000000e+00 4.84507280e-02 5.70399062e-02\n",
      " 3.48985919e-01 8.63117891e-03 7.04266398e-03 1.92684242e-02\n",
      " 1.37937373e-02 1.20965179e-02 2.38485392e-02 7.87906619e-03\n",
      " 1.04825584e-02 7.35431042e-03 5.87831467e-03 3.92609588e-03\n",
      " 1.48467762e-02 1.53313843e-02 1.06315964e-02 2.73208142e-02\n",
      " 1.27806360e-02 9.28590882e-03 1.37011465e-02 5.00541880e-03\n",
      " 1.06207115e-02 1.61308670e-02 1.92243965e-02 2.55997184e-02\n",
      " 2.72816152e-02 1.48619291e-02 6.70060636e-03 4.66255508e-03\n",
      " 4.88362948e-03 2.92771288e-02 1.30270081e-04 3.50919736e-03\n",
      " 3.49776969e-03 5.09095683e-03 7.15644496e-03 1.44219450e-02\n",
      " 1.72432704e-02 1.28226283e-02 9.43491174e-03 5.79149034e-03\n",
      " 1.08277672e-02 5.27470571e-03 1.03430957e-02 3.93952684e-03\n",
      " 5.55418122e-03 7.05801259e-03 4.43876806e-03 6.46692433e-03\n",
      " 4.82896165e-03 6.14808878e-03 1.70881418e-02 7.75874474e-03\n",
      " 6.25011269e-03 3.50893453e-03 8.31827726e-03 1.66831280e-02\n",
      " 6.06060459e-03 4.35317115e-03 6.10695890e-03 5.44413488e-03\n",
      " 1.55887560e-02 1.30181978e-02 1.02410212e-02 4.91072933e-02\n",
      " 1.47250372e-02 2.99531283e-03 4.56694251e-03 3.94368474e-03\n",
      " 4.48162129e-03 3.98488738e-03 3.78310295e-03 3.43811939e-03\n",
      " 2.05058763e-03 2.48892025e-03 3.00336923e-03 4.20576676e-03\n",
      " 3.07516897e-03 8.16118153e-03 2.52085040e-02 1.49397663e-02\n",
      " 2.34623305e-02 1.78135561e-03]\n"
     ]
    }
   ],
   "source": [
    "from sklearn.inspection import permutation_importance\n",
    "\n",
    "result = permutation_importance(\n",
    "    hist, X, Y, n_repeats=1, random_state=0)\n",
    "importance = result.importances_mean\n",
    "\n",
    "print(\"Feature importances:\", importance)"
   ]
  },
  {
   "cell_type": "code",
   "execution_count": 18,
   "id": "f828129d",
   "metadata": {},
   "outputs": [
    {
     "name": "stdout",
     "output_type": "stream",
     "text": [
      "                            F         I\n",
      "4                          pH  0.348986\n",
      "3                         lat  0.057040\n",
      "67                         VH  0.049107\n",
      "2                         lon  0.048451\n",
      "33                   QA_PIXEL  0.029277\n",
      "19                        mb2  0.027321\n",
      "28                      soc20  0.027282\n",
      "27                      snd20  0.025600\n",
      "82    CLOUDY_PIXEL_PERCENTAGE  0.025209\n",
      "10                         bp  0.023849\n",
      "84    NODATA_PIXEL_PERCENTAGE  0.023462\n",
      "7                       bio12  0.019268\n",
      "26                      slope  0.019224\n",
      "40                      SR_B6  0.017243\n",
      "54                LST_Day_1km  0.017088\n",
      "59                SolarZenith  0.016683\n",
      "25                       ph20  0.016131\n",
      "64             sur_refl_b07.1  0.015589\n",
      "17                       lstn  0.015331\n",
      "83    MEAN_SOLAR_ZENITH_ANGLE  0.014940\n",
      "29                        tim  0.014862\n",
      "16                       lstd  0.014847\n",
      "68                         VV  0.014725\n",
      "39                      SR_B5  0.014422\n",
      "8                       bio15  0.013794\n",
      "22                       mdem  0.013701\n",
      "65                         ET  0.013018\n",
      "41                      SR_B7  0.012823\n",
      "20                        mb3  0.012781\n",
      "9                        bio7  0.012097\n",
      "44    Nadir_Reflectance_Band2  0.010828\n",
      "18                        mb1  0.010632\n",
      "24                       parv  0.010621\n",
      "12                       dows  0.010483\n",
      "46    Nadir_Reflectance_Band4  0.010343\n",
      "66                        PET  0.010241\n",
      "42                     ST_B10  0.009435\n",
      "21                        mb7  0.009286\n",
      "5                         alb  0.008631\n",
      "58            RelativeAzimuth  0.008318\n",
      "81                         B9  0.008161\n",
      "11                      cec20  0.007879\n",
      "55              LST_Night_1km  0.007759\n",
      "13                     ecec20  0.007354\n",
      "38                      SR_B4  0.007156\n",
      "49               sur_refl_b03  0.007058\n",
      "6                        bio1  0.007043\n",
      "30                         wp  0.006701\n",
      "51               sur_refl_b05  0.006467\n",
      "56                        EVI  0.006250\n",
      "53               sur_refl_b07  0.006148\n",
      "62             sur_refl_b02.1  0.006107\n",
      "60                 ViewZenith  0.006061\n",
      "14                       hp20  0.005878\n",
      "43    Nadir_Reflectance_Band1  0.005791\n",
      "48               sur_refl_b02  0.005554\n",
      "63             sur_refl_b03.1  0.005444\n",
      "45    Nadir_Reflectance_Band3  0.005275\n",
      "37                      SR_B3  0.005091\n",
      "23                       para  0.005005\n",
      "32                BulkDensity  0.004884\n",
      "52               sur_refl_b06  0.004829\n",
      "31                      xhp20  0.004663\n",
      "70                         B1  0.004567\n",
      "72                        B12  0.004482\n",
      "50               sur_refl_b04  0.004439\n",
      "61             sur_refl_b01.1  0.004353\n",
      "79                         B8  0.004206\n",
      "73                         B2  0.003985\n",
      "71                        B11  0.003944\n",
      "47               sur_refl_b01  0.003940\n",
      "15                         ls  0.003926\n",
      "74                         B3  0.003783\n",
      "35                      SR_B1  0.003509\n",
      "57                       NDVI  0.003509\n",
      "36                      SR_B2  0.003498\n",
      "75                         B4  0.003438\n",
      "80                        B8A  0.003075\n",
      "78                         B7  0.003003\n",
      "69  relativeOrbitNumber_start  0.002995\n",
      "77                         B6  0.002489\n",
      "76                         B5  0.002051\n",
      "85       SENSING_ORBIT_NUMBER  0.001781\n",
      "34                  QA_RADSAT  0.000130\n",
      "1                         PID  0.000000\n",
      "0                        site  0.000000\n"
     ]
    }
   ],
   "source": [
    "f_i = pd.DataFrame({\"F\": X.columns, \"I\": importance}\n",
    "\n",
    "\n",
    "                   ).sort_values(by=\"I\", ascending=False)\n",
    "\n",
    "with pd.option_context('display.max_rows', None,\n",
    "                       'display.max_columns', None,\n",
    "                       'display.width', None):\n",
    "    print(f_i)"
   ]
  },
  {
   "cell_type": "code",
   "execution_count": 19,
   "id": "0a7cdccf",
   "metadata": {},
   "outputs": [
    {
     "name": "stdout",
     "output_type": "stream",
     "text": [
      "Base score: 603.2022\n"
     ]
    },
    {
     "name": "stderr",
     "output_type": "stream",
     "text": [
      "Evaluating columns:   1%|          | 1/83 [00:28<38:29, 28.16s/it]"
     ]
    },
    {
     "name": "stdout",
     "output_type": "stream",
     "text": [
      "B1 is important (Δ: 4.7802)\n"
     ]
    },
    {
     "name": "stderr",
     "output_type": "stream",
     "text": [
      "Evaluating columns:   2%|▏         | 2/83 [00:58<39:48, 29.49s/it]"
     ]
    },
    {
     "name": "stdout",
     "output_type": "stream",
     "text": [
      "B11 is important (Δ: 2.2208)\n"
     ]
    },
    {
     "name": "stderr",
     "output_type": "stream",
     "text": [
      "Evaluating columns:   4%|▎         | 3/83 [01:39<46:07, 34.60s/it]"
     ]
    },
    {
     "name": "stdout",
     "output_type": "stream",
     "text": [
      "B12 is important (Δ: 3.1733)\n"
     ]
    },
    {
     "name": "stderr",
     "output_type": "stream",
     "text": [
      "Evaluating columns:   5%|▍         | 4/83 [02:08<42:37, 32.37s/it]"
     ]
    },
    {
     "name": "stdout",
     "output_type": "stream",
     "text": [
      "B2 is important (Δ: 3.6845)\n"
     ]
    },
    {
     "name": "stderr",
     "output_type": "stream",
     "text": [
      "Evaluating columns:   6%|▌         | 5/83 [02:40<41:53, 32.22s/it]"
     ]
    },
    {
     "name": "stdout",
     "output_type": "stream",
     "text": [
      "B3 is important (Δ: 2.1051)\n"
     ]
    },
    {
     "name": "stderr",
     "output_type": "stream",
     "text": [
      "Evaluating columns:   7%|▋         | 6/83 [03:16<43:11, 33.65s/it]"
     ]
    },
    {
     "name": "stdout",
     "output_type": "stream",
     "text": [
      "B4 is important (Δ: 2.1943)\n"
     ]
    },
    {
     "name": "stderr",
     "output_type": "stream",
     "text": [
      "Evaluating columns:   8%|▊         | 7/83 [03:52<43:32, 34.37s/it]"
     ]
    },
    {
     "name": "stdout",
     "output_type": "stream",
     "text": [
      "B5 is important (Δ: 3.2507)\n"
     ]
    },
    {
     "name": "stderr",
     "output_type": "stream",
     "text": [
      "Evaluating columns:  10%|▉         | 8/83 [04:24<42:00, 33.61s/it]"
     ]
    },
    {
     "name": "stdout",
     "output_type": "stream",
     "text": [
      "B6 is important (Δ: 2.8412)\n"
     ]
    },
    {
     "name": "stderr",
     "output_type": "stream",
     "text": [
      "Evaluating columns:  11%|█         | 9/83 [04:53<39:51, 32.32s/it]"
     ]
    },
    {
     "name": "stdout",
     "output_type": "stream",
     "text": [
      "B7 is important (Δ: 2.6356)\n"
     ]
    },
    {
     "name": "stderr",
     "output_type": "stream",
     "text": [
      "Evaluating columns:  12%|█▏        | 10/83 [05:22<37:55, 31.17s/it]"
     ]
    },
    {
     "name": "stdout",
     "output_type": "stream",
     "text": [
      "B8 is important (Δ: 3.4809)\n"
     ]
    },
    {
     "name": "stderr",
     "output_type": "stream",
     "text": [
      "Evaluating columns:  13%|█▎        | 11/83 [05:50<36:05, 30.08s/it]"
     ]
    },
    {
     "name": "stdout",
     "output_type": "stream",
     "text": [
      "B8A is important (Δ: 1.3963)\n"
     ]
    },
    {
     "name": "stderr",
     "output_type": "stream",
     "text": [
      "Evaluating columns:  14%|█▍        | 12/83 [06:19<35:30, 30.01s/it]"
     ]
    },
    {
     "name": "stdout",
     "output_type": "stream",
     "text": [
      "B9 is important (Δ: 3.5330)\n"
     ]
    },
    {
     "name": "stderr",
     "output_type": "stream",
     "text": [
      "Evaluating columns:  16%|█▌        | 13/83 [06:47<34:00, 29.15s/it]"
     ]
    },
    {
     "name": "stdout",
     "output_type": "stream",
     "text": [
      "CLOUDY_PIXEL_PERCENTAGE is important (Δ: 3.7437)\n"
     ]
    },
    {
     "name": "stderr",
     "output_type": "stream",
     "text": [
      "Evaluating columns:  17%|█▋        | 14/83 [07:16<33:43, 29.33s/it]"
     ]
    },
    {
     "name": "stdout",
     "output_type": "stream",
     "text": [
      "ET is important (Δ: 2.5156)\n"
     ]
    },
    {
     "name": "stderr",
     "output_type": "stream",
     "text": [
      "Evaluating columns:  18%|█▊        | 15/83 [07:45<33:10, 29.27s/it]"
     ]
    },
    {
     "name": "stdout",
     "output_type": "stream",
     "text": [
      "EVI is important (Δ: 2.5282)\n"
     ]
    },
    {
     "name": "stderr",
     "output_type": "stream",
     "text": [
      "Evaluating columns:  19%|█▉        | 16/83 [08:14<32:34, 29.17s/it]"
     ]
    },
    {
     "name": "stdout",
     "output_type": "stream",
     "text": [
      "LST_Day_1km is important (Δ: 3.1961)\n"
     ]
    },
    {
     "name": "stderr",
     "output_type": "stream",
     "text": [
      "Evaluating columns:  20%|██        | 17/83 [08:44<32:16, 29.35s/it]"
     ]
    },
    {
     "name": "stdout",
     "output_type": "stream",
     "text": [
      "LST_Night_1km is important (Δ: 1.9567)\n"
     ]
    },
    {
     "name": "stderr",
     "output_type": "stream",
     "text": [
      "Evaluating columns:  22%|██▏       | 18/83 [09:15<32:19, 29.84s/it]"
     ]
    },
    {
     "name": "stdout",
     "output_type": "stream",
     "text": [
      "MEAN_SOLAR_ZENITH_ANGLE is important (Δ: 2.8819)\n"
     ]
    },
    {
     "name": "stderr",
     "output_type": "stream",
     "text": [
      "Evaluating columns:  23%|██▎       | 19/83 [09:45<31:48, 29.83s/it]"
     ]
    },
    {
     "name": "stdout",
     "output_type": "stream",
     "text": [
      "NDVI is important (Δ: 2.2282)\n"
     ]
    },
    {
     "name": "stderr",
     "output_type": "stream",
     "text": [
      "Evaluating columns:  24%|██▍       | 20/83 [10:14<30:55, 29.45s/it]"
     ]
    },
    {
     "name": "stdout",
     "output_type": "stream",
     "text": [
      "NODATA_PIXEL_PERCENTAGE is important (Δ: 2.6274)\n"
     ]
    },
    {
     "name": "stderr",
     "output_type": "stream",
     "text": [
      "Evaluating columns:  25%|██▌       | 21/83 [10:42<30:07, 29.15s/it]"
     ]
    },
    {
     "name": "stdout",
     "output_type": "stream",
     "text": [
      "Nadir_Reflectance_Band1 is important (Δ: 3.9800)\n"
     ]
    },
    {
     "name": "stderr",
     "output_type": "stream",
     "text": [
      "Evaluating columns:  27%|██▋       | 22/83 [11:08<28:39, 28.19s/it]"
     ]
    },
    {
     "name": "stdout",
     "output_type": "stream",
     "text": [
      "Nadir_Reflectance_Band2 is important (Δ: 0.9526)\n"
     ]
    },
    {
     "name": "stderr",
     "output_type": "stream",
     "text": [
      "Evaluating columns:  28%|██▊       | 23/83 [11:32<27:05, 27.09s/it]"
     ]
    },
    {
     "name": "stdout",
     "output_type": "stream",
     "text": [
      "Nadir_Reflectance_Band3 is important (Δ: 2.1250)\n"
     ]
    },
    {
     "name": "stderr",
     "output_type": "stream",
     "text": [
      "Evaluating columns:  29%|██▉       | 24/83 [11:59<26:29, 26.95s/it]"
     ]
    },
    {
     "name": "stdout",
     "output_type": "stream",
     "text": [
      "Nadir_Reflectance_Band4 can be dropped (Δ: -0.3505)\n"
     ]
    },
    {
     "name": "stderr",
     "output_type": "stream",
     "text": [
      "Evaluating columns:  30%|███       | 25/83 [12:23<25:17, 26.17s/it]"
     ]
    },
    {
     "name": "stdout",
     "output_type": "stream",
     "text": [
      "PET is important (Δ: 1.8269)\n"
     ]
    },
    {
     "name": "stderr",
     "output_type": "stream",
     "text": [
      "Evaluating columns:  31%|███▏      | 26/83 [12:48<24:31, 25.81s/it]"
     ]
    },
    {
     "name": "stdout",
     "output_type": "stream",
     "text": [
      "QA_PIXEL is important (Δ: 1.9899)\n"
     ]
    },
    {
     "name": "stderr",
     "output_type": "stream",
     "text": [
      "Evaluating columns:  33%|███▎      | 27/83 [13:15<24:20, 26.07s/it]"
     ]
    },
    {
     "name": "stdout",
     "output_type": "stream",
     "text": [
      "QA_RADSAT is important (Δ: 1.0674)\n"
     ]
    },
    {
     "name": "stderr",
     "output_type": "stream",
     "text": [
      "Evaluating columns:  34%|███▎      | 28/83 [13:43<24:28, 26.71s/it]"
     ]
    },
    {
     "name": "stdout",
     "output_type": "stream",
     "text": [
      "RelativeAzimuth is important (Δ: 1.9185)\n"
     ]
    },
    {
     "name": "stderr",
     "output_type": "stream",
     "text": [
      "Evaluating columns:  35%|███▍      | 29/83 [14:11<24:20, 27.04s/it]"
     ]
    },
    {
     "name": "stdout",
     "output_type": "stream",
     "text": [
      "SENSING_ORBIT_NUMBER is important (Δ: 0.9034)\n"
     ]
    },
    {
     "name": "stderr",
     "output_type": "stream",
     "text": [
      "Evaluating columns:  36%|███▌      | 30/83 [14:42<24:52, 28.16s/it]"
     ]
    },
    {
     "name": "stdout",
     "output_type": "stream",
     "text": [
      "SR_B1 is important (Δ: 0.8570)\n"
     ]
    },
    {
     "name": "stderr",
     "output_type": "stream",
     "text": [
      "Evaluating columns:  37%|███▋      | 31/83 [15:06<23:28, 27.09s/it]"
     ]
    },
    {
     "name": "stdout",
     "output_type": "stream",
     "text": [
      "SR_B2 can be dropped (Δ: -0.1221)\n"
     ]
    },
    {
     "name": "stderr",
     "output_type": "stream",
     "text": [
      "Evaluating columns:  39%|███▊      | 32/83 [15:30<22:08, 26.06s/it]"
     ]
    },
    {
     "name": "stdout",
     "output_type": "stream",
     "text": [
      "SR_B3 is important (Δ: 3.6282)\n"
     ]
    },
    {
     "name": "stderr",
     "output_type": "stream",
     "text": [
      "Evaluating columns:  40%|███▉      | 33/83 [15:55<21:19, 25.59s/it]"
     ]
    },
    {
     "name": "stdout",
     "output_type": "stream",
     "text": [
      "SR_B4 is important (Δ: 1.3467)\n"
     ]
    },
    {
     "name": "stderr",
     "output_type": "stream",
     "text": [
      "Evaluating columns:  41%|████      | 34/83 [16:20<20:44, 25.40s/it]"
     ]
    },
    {
     "name": "stdout",
     "output_type": "stream",
     "text": [
      "SR_B5 is important (Δ: 3.2103)\n"
     ]
    },
    {
     "name": "stderr",
     "output_type": "stream",
     "text": [
      "Evaluating columns:  42%|████▏     | 35/83 [16:44<20:04, 25.10s/it]"
     ]
    },
    {
     "name": "stdout",
     "output_type": "stream",
     "text": [
      "SR_B6 is important (Δ: 1.0280)\n"
     ]
    },
    {
     "name": "stderr",
     "output_type": "stream",
     "text": [
      "Evaluating columns:  43%|████▎     | 36/83 [17:09<19:39, 25.09s/it]"
     ]
    },
    {
     "name": "stdout",
     "output_type": "stream",
     "text": [
      "SR_B7 is important (Δ: 3.4932)\n"
     ]
    },
    {
     "name": "stderr",
     "output_type": "stream",
     "text": [
      "Evaluating columns:  45%|████▍     | 37/83 [17:34<19:09, 24.98s/it]"
     ]
    },
    {
     "name": "stdout",
     "output_type": "stream",
     "text": [
      "ST_B10 is important (Δ: 2.3285)\n"
     ]
    },
    {
     "name": "stderr",
     "output_type": "stream",
     "text": [
      "Evaluating columns:  46%|████▌     | 38/83 [17:58<18:37, 24.84s/it]"
     ]
    },
    {
     "name": "stdout",
     "output_type": "stream",
     "text": [
      "SolarZenith is important (Δ: 0.2257)\n"
     ]
    },
    {
     "name": "stderr",
     "output_type": "stream",
     "text": [
      "Evaluating columns:  47%|████▋     | 39/83 [18:24<18:20, 25.01s/it]"
     ]
    },
    {
     "name": "stdout",
     "output_type": "stream",
     "text": [
      "VH is important (Δ: 2.4775)\n"
     ]
    },
    {
     "name": "stderr",
     "output_type": "stream",
     "text": [
      "Evaluating columns:  48%|████▊     | 40/83 [18:48<17:41, 24.69s/it]"
     ]
    },
    {
     "name": "stdout",
     "output_type": "stream",
     "text": [
      "VV is important (Δ: 4.2202)\n"
     ]
    },
    {
     "name": "stderr",
     "output_type": "stream",
     "text": [
      "Evaluating columns:  49%|████▉     | 41/83 [19:10<16:53, 24.14s/it]"
     ]
    },
    {
     "name": "stdout",
     "output_type": "stream",
     "text": [
      "ViewZenith is important (Δ: 1.7895)\n"
     ]
    },
    {
     "name": "stderr",
     "output_type": "stream",
     "text": [
      "Evaluating columns:  51%|█████     | 42/83 [19:32<15:59, 23.39s/it]"
     ]
    },
    {
     "name": "stdout",
     "output_type": "stream",
     "text": [
      "alb is important (Δ: 3.1421)\n"
     ]
    },
    {
     "name": "stderr",
     "output_type": "stream",
     "text": [
      "Evaluating columns:  52%|█████▏    | 43/83 [19:53<15:08, 22.72s/it]"
     ]
    },
    {
     "name": "stdout",
     "output_type": "stream",
     "text": [
      "bio1 is important (Δ: 3.2146)\n"
     ]
    },
    {
     "name": "stderr",
     "output_type": "stream",
     "text": [
      "Evaluating columns:  53%|█████▎    | 44/83 [20:15<14:31, 22.34s/it]"
     ]
    },
    {
     "name": "stdout",
     "output_type": "stream",
     "text": [
      "bio12 is important (Δ: 5.3243)\n"
     ]
    },
    {
     "name": "stderr",
     "output_type": "stream",
     "text": [
      "Evaluating columns:  54%|█████▍    | 45/83 [20:36<13:57, 22.03s/it]"
     ]
    },
    {
     "name": "stdout",
     "output_type": "stream",
     "text": [
      "bio15 is important (Δ: 3.7805)\n"
     ]
    },
    {
     "name": "stderr",
     "output_type": "stream",
     "text": [
      "Evaluating columns:  55%|█████▌    | 46/83 [20:57<13:26, 21.79s/it]"
     ]
    },
    {
     "name": "stdout",
     "output_type": "stream",
     "text": [
      "bio7 is important (Δ: 1.8513)\n"
     ]
    },
    {
     "name": "stderr",
     "output_type": "stream",
     "text": [
      "Evaluating columns:  57%|█████▋    | 47/83 [21:19<13:03, 21.78s/it]"
     ]
    },
    {
     "name": "stdout",
     "output_type": "stream",
     "text": [
      "bp is important (Δ: 3.7620)\n"
     ]
    },
    {
     "name": "stderr",
     "output_type": "stream",
     "text": [
      "Evaluating columns:  58%|█████▊    | 48/83 [21:40<12:38, 21.69s/it]"
     ]
    },
    {
     "name": "stdout",
     "output_type": "stream",
     "text": [
      "cec20 is important (Δ: 3.5889)\n"
     ]
    },
    {
     "name": "stderr",
     "output_type": "stream",
     "text": [
      "Evaluating columns:  59%|█████▉    | 49/83 [22:01<12:08, 21.43s/it]"
     ]
    },
    {
     "name": "stdout",
     "output_type": "stream",
     "text": [
      "dows is important (Δ: 4.5838)\n"
     ]
    },
    {
     "name": "stderr",
     "output_type": "stream",
     "text": [
      "Evaluating columns:  60%|██████    | 50/83 [22:23<11:45, 21.39s/it]"
     ]
    },
    {
     "name": "stdout",
     "output_type": "stream",
     "text": [
      "ecec20 is important (Δ: 1.0807)\n"
     ]
    },
    {
     "name": "stderr",
     "output_type": "stream",
     "text": [
      "Evaluating columns:  61%|██████▏   | 51/83 [22:44<11:24, 21.38s/it]"
     ]
    },
    {
     "name": "stdout",
     "output_type": "stream",
     "text": [
      "hp20 is important (Δ: 1.4287)\n"
     ]
    },
    {
     "name": "stderr",
     "output_type": "stream",
     "text": [
      "Evaluating columns:  63%|██████▎   | 52/83 [23:05<10:58, 21.26s/it]"
     ]
    },
    {
     "name": "stdout",
     "output_type": "stream",
     "text": [
      "lat is important (Δ: 1.6736)\n"
     ]
    },
    {
     "name": "stderr",
     "output_type": "stream",
     "text": [
      "Evaluating columns:  64%|██████▍   | 53/83 [23:30<11:10, 22.34s/it]"
     ]
    },
    {
     "name": "stdout",
     "output_type": "stream",
     "text": [
      "lon is important (Δ: 5.0268)\n"
     ]
    },
    {
     "name": "stderr",
     "output_type": "stream",
     "text": [
      "Evaluating columns:  65%|██████▌   | 54/83 [23:57<11:26, 23.69s/it]"
     ]
    },
    {
     "name": "stdout",
     "output_type": "stream",
     "text": [
      "ls is important (Δ: 2.0637)\n"
     ]
    },
    {
     "name": "stderr",
     "output_type": "stream",
     "text": [
      "Evaluating columns:  66%|██████▋   | 55/83 [24:21<11:09, 23.91s/it]"
     ]
    },
    {
     "name": "stdout",
     "output_type": "stream",
     "text": [
      "lstd is important (Δ: 4.2194)\n"
     ]
    },
    {
     "name": "stderr",
     "output_type": "stream",
     "text": [
      "Evaluating columns:  67%|██████▋   | 56/83 [24:47<11:01, 24.49s/it]"
     ]
    },
    {
     "name": "stdout",
     "output_type": "stream",
     "text": [
      "lstn is important (Δ: 0.9424)\n"
     ]
    },
    {
     "name": "stderr",
     "output_type": "stream",
     "text": [
      "Evaluating columns:  69%|██████▊   | 57/83 [25:11<10:36, 24.48s/it]"
     ]
    },
    {
     "name": "stdout",
     "output_type": "stream",
     "text": [
      "mb1 is important (Δ: 2.2577)\n"
     ]
    },
    {
     "name": "stderr",
     "output_type": "stream",
     "text": [
      "Evaluating columns:  70%|██████▉   | 58/83 [25:36<10:11, 24.47s/it]"
     ]
    },
    {
     "name": "stdout",
     "output_type": "stream",
     "text": [
      "mb2 is important (Δ: 3.1788)\n"
     ]
    },
    {
     "name": "stderr",
     "output_type": "stream",
     "text": [
      "Evaluating columns:  71%|███████   | 59/83 [26:00<09:46, 24.42s/it]"
     ]
    },
    {
     "name": "stdout",
     "output_type": "stream",
     "text": [
      "mb3 is important (Δ: 3.1074)\n"
     ]
    },
    {
     "name": "stderr",
     "output_type": "stream",
     "text": [
      "Evaluating columns:  72%|███████▏  | 60/83 [26:32<10:15, 26.76s/it]"
     ]
    },
    {
     "name": "stdout",
     "output_type": "stream",
     "text": [
      "mb7 is important (Δ: 1.6118)\n"
     ]
    },
    {
     "name": "stderr",
     "output_type": "stream",
     "text": [
      "Evaluating columns:  73%|███████▎  | 61/83 [27:06<10:33, 28.81s/it]"
     ]
    },
    {
     "name": "stdout",
     "output_type": "stream",
     "text": [
      "mdem is important (Δ: 1.9356)\n"
     ]
    },
    {
     "name": "stderr",
     "output_type": "stream",
     "text": [
      "Evaluating columns:  75%|███████▍  | 62/83 [27:40<10:35, 30.25s/it]"
     ]
    },
    {
     "name": "stdout",
     "output_type": "stream",
     "text": [
      "pH is important (Δ: 123.8911)\n"
     ]
    },
    {
     "name": "stderr",
     "output_type": "stream",
     "text": [
      "Evaluating columns:  76%|███████▌  | 63/83 [28:05<09:37, 28.89s/it]"
     ]
    },
    {
     "name": "stdout",
     "output_type": "stream",
     "text": [
      "para is important (Δ: 1.2159)\n"
     ]
    },
    {
     "name": "stderr",
     "output_type": "stream",
     "text": [
      "Evaluating columns:  77%|███████▋  | 64/83 [28:30<08:44, 27.63s/it]"
     ]
    },
    {
     "name": "stdout",
     "output_type": "stream",
     "text": [
      "parv is important (Δ: 4.4680)\n"
     ]
    },
    {
     "name": "stderr",
     "output_type": "stream",
     "text": [
      "Evaluating columns:  78%|███████▊  | 65/83 [28:55<08:02, 26.82s/it]"
     ]
    },
    {
     "name": "stdout",
     "output_type": "stream",
     "text": [
      "ph20 is important (Δ: 2.2257)\n"
     ]
    },
    {
     "name": "stderr",
     "output_type": "stream",
     "text": [
      "Evaluating columns:  80%|███████▉  | 66/83 [29:20<07:25, 26.18s/it]"
     ]
    },
    {
     "name": "stdout",
     "output_type": "stream",
     "text": [
      "relativeOrbitNumber_start is important (Δ: 0.9640)\n"
     ]
    },
    {
     "name": "stderr",
     "output_type": "stream",
     "text": [
      "Evaluating columns:  81%|████████  | 67/83 [29:44<06:48, 25.56s/it]"
     ]
    },
    {
     "name": "stdout",
     "output_type": "stream",
     "text": [
      "slope is important (Δ: 4.2199)\n"
     ]
    },
    {
     "name": "stderr",
     "output_type": "stream",
     "text": [
      "Evaluating columns:  82%|████████▏ | 68/83 [30:08<06:17, 25.18s/it]"
     ]
    },
    {
     "name": "stdout",
     "output_type": "stream",
     "text": [
      "snd20 is important (Δ: 3.6393)\n"
     ]
    },
    {
     "name": "stderr",
     "output_type": "stream",
     "text": [
      "Evaluating columns:  83%|████████▎ | 69/83 [30:32<05:49, 24.98s/it]"
     ]
    },
    {
     "name": "stdout",
     "output_type": "stream",
     "text": [
      "soc20 is important (Δ: 5.1466)\n"
     ]
    },
    {
     "name": "stderr",
     "output_type": "stream",
     "text": [
      "Evaluating columns:  84%|████████▍ | 70/83 [30:57<05:21, 24.73s/it]"
     ]
    },
    {
     "name": "stdout",
     "output_type": "stream",
     "text": [
      "sur_refl_b01 is important (Δ: 2.6569)\n"
     ]
    },
    {
     "name": "stderr",
     "output_type": "stream",
     "text": [
      "Evaluating columns:  86%|████████▌ | 71/83 [31:22<04:57, 24.83s/it]"
     ]
    },
    {
     "name": "stdout",
     "output_type": "stream",
     "text": [
      "sur_refl_b01.1 is important (Δ: 2.6315)\n"
     ]
    },
    {
     "name": "stderr",
     "output_type": "stream",
     "text": [
      "Evaluating columns:  87%|████████▋ | 72/83 [31:46<04:31, 24.67s/it]"
     ]
    },
    {
     "name": "stdout",
     "output_type": "stream",
     "text": [
      "sur_refl_b02 is important (Δ: 1.5887)\n"
     ]
    },
    {
     "name": "stderr",
     "output_type": "stream",
     "text": [
      "Evaluating columns:  88%|████████▊ | 73/83 [32:11<04:07, 24.74s/it]"
     ]
    },
    {
     "name": "stdout",
     "output_type": "stream",
     "text": [
      "sur_refl_b02.1 is important (Δ: 3.8267)\n"
     ]
    },
    {
     "name": "stderr",
     "output_type": "stream",
     "text": [
      "Evaluating columns:  89%|████████▉ | 74/83 [32:36<03:42, 24.75s/it]"
     ]
    },
    {
     "name": "stdout",
     "output_type": "stream",
     "text": [
      "sur_refl_b03 is important (Δ: 2.3421)\n"
     ]
    },
    {
     "name": "stderr",
     "output_type": "stream",
     "text": [
      "Evaluating columns:  90%|█████████ | 75/83 [32:58<03:11, 23.97s/it]"
     ]
    },
    {
     "name": "stdout",
     "output_type": "stream",
     "text": [
      "sur_refl_b03.1 is important (Δ: 3.4055)\n"
     ]
    },
    {
     "name": "stderr",
     "output_type": "stream",
     "text": [
      "Evaluating columns:  92%|█████████▏| 76/83 [33:20<02:43, 23.37s/it]"
     ]
    },
    {
     "name": "stdout",
     "output_type": "stream",
     "text": [
      "sur_refl_b04 is important (Δ: 1.4415)\n"
     ]
    },
    {
     "name": "stderr",
     "output_type": "stream",
     "text": [
      "Evaluating columns:  93%|█████████▎| 77/83 [33:41<02:16, 22.74s/it]"
     ]
    },
    {
     "name": "stdout",
     "output_type": "stream",
     "text": [
      "sur_refl_b05 is important (Δ: 1.7257)\n"
     ]
    },
    {
     "name": "stderr",
     "output_type": "stream",
     "text": [
      "Evaluating columns:  94%|█████████▍| 78/83 [34:02<01:50, 22.17s/it]"
     ]
    },
    {
     "name": "stdout",
     "output_type": "stream",
     "text": [
      "sur_refl_b06 is important (Δ: 1.6117)\n"
     ]
    },
    {
     "name": "stderr",
     "output_type": "stream",
     "text": [
      "Evaluating columns:  95%|█████████▌| 79/83 [34:23<01:27, 21.94s/it]"
     ]
    },
    {
     "name": "stdout",
     "output_type": "stream",
     "text": [
      "sur_refl_b07 is important (Δ: 1.3333)\n"
     ]
    },
    {
     "name": "stderr",
     "output_type": "stream",
     "text": [
      "Evaluating columns:  96%|█████████▋| 80/83 [34:44<01:04, 21.65s/it]"
     ]
    },
    {
     "name": "stdout",
     "output_type": "stream",
     "text": [
      "sur_refl_b07.1 is important (Δ: 3.2891)\n"
     ]
    },
    {
     "name": "stderr",
     "output_type": "stream",
     "text": [
      "Evaluating columns:  98%|█████████▊| 81/83 [35:10<00:45, 22.98s/it]"
     ]
    },
    {
     "name": "stdout",
     "output_type": "stream",
     "text": [
      "tim is important (Δ: 0.0909)\n"
     ]
    },
    {
     "name": "stderr",
     "output_type": "stream",
     "text": [
      "Evaluating columns:  99%|█████████▉| 82/83 [35:36<00:23, 23.68s/it]"
     ]
    },
    {
     "name": "stdout",
     "output_type": "stream",
     "text": [
      "wp is important (Δ: 4.1114)\n"
     ]
    },
    {
     "name": "stderr",
     "output_type": "stream",
     "text": [
      "Evaluating columns: 100%|██████████| 83/83 [36:00<00:00, 26.03s/it]"
     ]
    },
    {
     "name": "stdout",
     "output_type": "stream",
     "text": [
      "xhp20 is important (Δ: 2.8055)\n",
      "\n",
      "Columns to drop: ['Nadir_Reflectance_Band4', 'SR_B2']\n",
      "\n",
      "Score summary:\n",
      "                     column       score  difference\n",
      "61                       pH  727.093321  123.891095\n",
      "43                    bio12  608.526529    5.324303\n",
      "68                    soc20  608.348793    5.146566\n",
      "52                      lon  608.229070    5.026843\n",
      "0                        B1  607.982462    4.780236\n",
      "..                      ...         ...         ...\n",
      "29                    SR_B1  604.059268    0.857042\n",
      "37              SolarZenith  603.427897    0.225670\n",
      "80                      tim  603.293096    0.090869\n",
      "30                    SR_B2  603.080079   -0.122147\n",
      "23  Nadir_Reflectance_Band4  602.851715   -0.350511\n",
      "\n",
      "[83 rows x 3 columns]\n"
     ]
    },
    {
     "name": "stderr",
     "output_type": "stream",
     "text": [
      "\n"
     ]
    }
   ],
   "source": [
    "# Initialize variables correctly\n",
    "columns = X.columns.difference([\"PID\", \"site\", \"BulkDensity\"])\n",
    "result = eval_model(hist, X, Y, n_jobs=-1, print_result=False)\n",
    "scores = -result['test_score']\n",
    "base_mean = np.mean(scores)\n",
    "\n",
    "# Initialize DataFrame to store scores\n",
    "score_results = pd.DataFrame(columns=[\"column\", \"score\", \"difference\"])\n",
    "columns_to_drop = []\n",
    "\n",
    "print(f\"Base score: {base_mean:.4f}\")\n",
    "\n",
    "for column in tqdm(columns, desc=\"Evaluating columns\"):\n",
    "\n",
    "    try:\n",
    "        # Drop only the current column being evaluated (not accumulated columns_to_drop)\n",
    "        X_col = X.drop(columns=[column])\n",
    "\n",
    "        # Evaluate model without this column\n",
    "        r = eval_model(hist, X_col, Y, n_jobs=-1, print_result=False)\n",
    "        current_scores = -r['test_score']  # Note: using r, not result\n",
    "        current_mean = np.mean(current_scores)\n",
    "        diff = current_mean - base_mean\n",
    "\n",
    "        # Store results\n",
    "        score_results.loc[len(score_results)] = [column, current_mean, diff]\n",
    "\n",
    "        # Decision logic (fixed comparison)\n",
    "        if current_mean <= base_mean:  # Better or equal performance without this column\n",
    "            columns_to_drop.append(column)\n",
    "            print(f\"{column} can be dropped (Δ: {diff:.4f})\")\n",
    "        else:\n",
    "            print(f\"{column} is important (Δ: {diff:.4f})\")\n",
    "    except:\n",
    "        print(f\"error testing column {column}\")\n",
    "\n",
    "# Final results\n",
    "print(\"\\nColumns to drop:\", columns_to_drop)\n",
    "print(\"\\nScore summary:\")\n",
    "print(score_results.sort_values(\"difference\", ascending=False))"
   ]
  },
  {
   "cell_type": "code",
   "execution_count": 28,
   "id": "1b2f2b9d",
   "metadata": {},
   "outputs": [
    {
     "name": "stdout",
     "output_type": "stream",
     "text": [
      "                       column       score  difference\n",
      "23    Nadir_Reflectance_Band4  602.851715   -0.350511\n",
      "30                      SR_B2  603.080079   -0.122147\n",
      "80                        tim  603.293096    0.090869\n",
      "37                SolarZenith  603.427897    0.225670\n",
      "29                      SR_B1  604.059268    0.857042\n",
      "28       SENSING_ORBIT_NUMBER  604.105657    0.903430\n",
      "55                       lstn  604.144626    0.942400\n",
      "21    Nadir_Reflectance_Band2  604.154814    0.952588\n",
      "65  relativeOrbitNumber_start  604.166210    0.963983\n",
      "34                      SR_B6  604.230189    1.027963\n",
      "26                  QA_RADSAT  604.269667    1.067440\n",
      "49                     ecec20  604.282922    1.080695\n",
      "62                       para  604.418164    1.215937\n",
      "78               sur_refl_b07  604.535481    1.333255\n",
      "32                      SR_B4  604.548895    1.346668\n",
      "10                        B8A  604.598529    1.396303\n",
      "50                       hp20  604.630924    1.428697\n",
      "75               sur_refl_b04  604.643771    1.441544\n",
      "71               sur_refl_b02  604.790912    1.588685\n",
      "77               sur_refl_b06  604.813939    1.611713\n",
      "59                        mb7  604.813992    1.611765\n",
      "51                        lat  604.875839    1.673612\n",
      "76               sur_refl_b05  604.927877    1.725651\n",
      "40                 ViewZenith  604.991704    1.789477\n",
      "24                        PET  605.029107    1.826881\n",
      "45                       bio7  605.053532    1.851306\n",
      "27            RelativeAzimuth  605.120732    1.918506\n",
      "60                       mdem  605.137812    1.935585\n",
      "16              LST_Night_1km  605.158895    1.956669\n",
      "25                   QA_PIXEL  605.192170    1.989943\n",
      "53                         ls  605.265928    2.063701\n",
      "4                          B3  605.307374    2.105148\n",
      "22    Nadir_Reflectance_Band3  605.327219    2.124992\n",
      "5                          B4  605.396574    2.194347\n",
      "1                         B11  605.423032    2.220806\n",
      "64                       ph20  605.427882    2.225655\n",
      "18                       NDVI  605.430469    2.228242\n",
      "56                        mb1  605.459886    2.257660\n",
      "36                     ST_B10  605.530751    2.328524\n",
      "73               sur_refl_b03  605.544308    2.342081\n",
      "38                         VH  605.679771    2.477544\n",
      "13                         ET  605.717870    2.515644\n",
      "14                        EVI  605.730467    2.528240\n",
      "19    NODATA_PIXEL_PERCENTAGE  605.829619    2.627393\n",
      "70             sur_refl_b01.1  605.833713    2.631486\n",
      "8                          B7  605.837777    2.635551\n",
      "69               sur_refl_b01  605.859097    2.656870\n",
      "82                      xhp20  606.007701    2.805475\n",
      "7                          B6  606.043420    2.841193\n",
      "17    MEAN_SOLAR_ZENITH_ANGLE  606.084097    2.881871\n",
      "58                        mb3  606.309670    3.107443\n",
      "41                        alb  606.344332    3.142106\n",
      "2                         B12  606.375558    3.173332\n",
      "57                        mb2  606.381055    3.178828\n",
      "15                LST_Day_1km  606.398343    3.196116\n",
      "33                      SR_B5  606.412492    3.210265\n",
      "42                       bio1  606.416790    3.214563\n",
      "6                          B5  606.452938    3.250711\n",
      "79             sur_refl_b07.1  606.491309    3.289082\n",
      "74             sur_refl_b03.1  606.607740    3.405514\n",
      "9                          B8  606.683097    3.480870\n",
      "35                      SR_B7  606.695467    3.493240\n",
      "11                         B9  606.735268    3.533041\n",
      "47                      cec20  606.791100    3.588874\n",
      "31                      SR_B3  606.830412    3.628186\n",
      "67                      snd20  606.841514    3.639287\n",
      "3                          B2  606.886743    3.684516\n",
      "12    CLOUDY_PIXEL_PERCENTAGE  606.945881    3.743655\n",
      "46                         bp  606.964177    3.761951\n",
      "44                      bio15  606.982713    3.780487\n",
      "72             sur_refl_b02.1  607.028892    3.826666\n",
      "20    Nadir_Reflectance_Band1  607.182237    3.980010\n",
      "81                         wp  607.313641    4.111414\n",
      "54                       lstd  607.421623    4.219396\n",
      "66                      slope  607.422107    4.219881\n",
      "39                         VV  607.422435    4.220208\n",
      "63                       parv  607.670218    4.467992\n",
      "48                       dows  607.786075    4.583849\n",
      "0                          B1  607.982462    4.780236\n",
      "52                        lon  608.229070    5.026843\n",
      "68                      soc20  608.348793    5.146566\n",
      "43                      bio12  608.526529    5.324303\n",
      "61                         pH  727.093321  123.891095\n"
     ]
    }
   ],
   "source": [
    "\n",
    "with pd.option_context('display.max_rows', None,\n",
    "                       'display.max_columns', None,\n",
    "                       'display.width', None):\n",
    "    print(score_results.sort_values(by=\"difference\"))"
   ]
  },
  {
   "cell_type": "code",
   "execution_count": 32,
   "id": "d48755fc",
   "metadata": {},
   "outputs": [
    {
     "name": "stdout",
     "output_type": "stream",
     "text": [
      "['B8A', 'Nadir_Reflectance_Band2', 'Nadir_Reflectance_Band4', 'QA_RADSAT', 'SENSING_ORBIT_NUMBER', 'SR_B1', 'SR_B2', 'SR_B4', 'SR_B6', 'SolarZenith', 'ecec20', 'hp20', 'lstn', 'para', 'relativeOrbitNumber_start', 'sur_refl_b04', 'sur_refl_b07', 'tim']\n"
     ]
    }
   ],
   "source": [
    "print(list(score_results['column'][score_results[\"difference\"] <= 1.5]))"
   ]
  },
  {
   "cell_type": "code",
   "execution_count": 33,
   "id": "4cc97b0d",
   "metadata": {},
   "outputs": [
    {
     "name": "stderr",
     "output_type": "stream",
     "text": [
      "Plotting distributions: 100%|██████████| 11/11 [00:05<00:00,  2.02it/s]\n"
     ]
    },
    {
     "data": {
      "image/png": "[encoded data removed]",
      "text/plain": [
       "<Figure size 1500x1600 with 12 Axes>"
      ]
     },
     "metadata": {},
     "output_type": "display_data"
    }
   ],
   "source": [
    "column_count = len(target_columns)\n",
    "nrows = (column_count + 2) // 3\n",
    "ncols = min(column_count, 3)\n",
    "fig, axs = plt.subplots(nrows=nrows, ncols=ncols,\n",
    "                        figsize=(5*ncols, 4*nrows),\n",
    "                        constrained_layout=True)\n",
    "axs = axs.reshape(-1)\n",
    "for i, col in enumerate(tqdm(target_columns, desc=\"Plotting distributions\")):\n",
    "\n",
    "    axs[i].set_title(f\"Distribution of {col}\")\n",
    "    sns.histplot(train[col], ax=axs[i])\n",
    "plt.suptitle(\"Feature Distributions\", y=1.02, fontsize=14)\n",
    "plt.show()"
   ]
  },
  {
   "cell_type": "code",
   "execution_count": 63,
   "id": "46cc7ce8",
   "metadata": {},
   "outputs": [
    {
     "data": {
      "image/png": "[encoded data removed]",
      "text/plain": [
       "<Figure size 800x600 with 2 Axes>"
      ]
     },
     "metadata": {},
     "output_type": "display_data"
    }
   ],
   "source": [
    "\n",
    "\n",
    "# Compute full correlation matrix\n",
    "corr_matrix = train.select_dtypes(include=\"number\").corr()\n",
    "\n",
    "# Extract only correlations between X columns and Y columns\n",
    "corr_X_Y = corr_matrix.loc[X.select_dtypes(\n",
    "    include=\"number\").columns, Y.columns]\n",
    "corr_X_Y = corr_X_Y[np.abs(corr_X_Y) >= 0.25]\n",
    "corr_X_Y.drop(\n",
    "    columns=corr_X_Y.columns[corr_X_Y.isna().all(axis=0)], inplace=True)\n",
    "corr_X_Y.drop(\n",
    "    corr_X_Y.index[corr_X_Y.isna().all(axis=1)], inplace=True)\n",
    "# Plot heatmap\n",
    "plt.figure(figsize=(8, 6))\n",
    "sns.heatmap(corr_X_Y, annot=True, fmt=\".2f\",\n",
    "            cmap=\"coolwarm\", center=0)\n",
    "plt.title(\"Correlation Between X and Y Variables\")\n",
    "plt.tight_layout()\n",
    "plt.show()"
   ]
  }
 ],
 "metadata": {
  "kernelspec": {
   "display_name": "Python 3",
   "language": "python",
   "name": "python3"
  },
  "language_info": {
   "codemirror_mode": {
    "name": "ipython",
    "version": 3
   },
   "file_extension": ".py",
   "mimetype": "text/x-python",
   "name": "python",
   "nbconvert_exporter": "python",
   "pygments_lexer": "ipython3",
   "version": "3.13.3"
  }
 },
 "nbformat": 4,
 "nbformat_minor": 5
}
